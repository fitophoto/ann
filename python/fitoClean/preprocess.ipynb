{
 "cells": [
  {
   "cell_type": "code",
   "execution_count": 5,
   "id": "9c84ece9-f8fe-4277-9580-376a3916b029",
   "metadata": {},
   "outputs": [],
   "source": [
    "import sys\n",
    "import os\n",
    "\n",
    "from PIL import Image"
   ]
  },
  {
   "cell_type": "markdown",
   "id": "9c867f3e-73fb-4e09-a123-9bf86b877dee",
   "metadata": {},
   "source": [
    "### Изменение разрешения изображения (400x400) и восстановление ориентации изображения при надобности"
   ]
  },
  {
   "cell_type": "markdown",
   "id": "34a923c6-1309-425e-a581-e035ee1174b8",
   "metadata": {},
   "source": [
    "***Большинство изображений при чтении изменяют ориентцию (поворот на 90), поэтому орентацию необходимо восстанавливать***"
   ]
  },
  {
   "cell_type": "code",
   "execution_count": 6,
   "id": "2b003436-f518-4d5e-b968-d98ef3b82fa6",
   "metadata": {},
   "outputs": [],
   "source": [
    "def process(im, rotate=True):\n",
    "    if rotate:\n",
    "        im = im.rotate(270, Image.NEAREST, expand = 1)\n",
    "    return im.resize((400,400))"
   ]
  },
  {
   "cell_type": "markdown",
   "id": "013924af-0abb-4d10-aa54-2e28da0c4ebf",
   "metadata": {},
   "source": [
    "***Применение преобразования ко всем изображениям с однотонным фоном***"
   ]
  },
  {
   "cell_type": "code",
   "execution_count": 7,
   "id": "47196db4-3c0c-433b-a22c-f38c1c3266f0",
   "metadata": {},
   "outputs": [],
   "source": [
    "dir_path=\"Photo/\""
   ]
  },
  {
   "cell_type": "code",
   "execution_count": 8,
   "id": "3f1b1f98-606d-4e96-9527-9194c4fa4b9d",
   "metadata": {},
   "outputs": [],
   "source": [
    "for cls in os.listdir(dir_path):\n",
    "    path = dir_path + cls + \"/\"\n",
    "    out = f\"Data400/{cls}/\"\n",
    "    for cat in os.listdir(path):\n",
    "        back = path + cat + \"/\"\n",
    "        for img in os.listdir(back):\n",
    "            im = process(Image.open(back+img))\n",
    "            if im.size != (400, 400):\n",
    "                continue\n",
    "            im.save(out+img)"
   ]
  },
  {
   "cell_type": "code",
   "execution_count": null,
   "id": "6e7acaf2-5399-44d8-98d8-a69ee5c5ce5f",
   "metadata": {},
   "outputs": [],
   "source": []
  }
 ],
 "metadata": {
  "kernelspec": {
   "display_name": "fito",
   "language": "python",
   "name": "fito"
  },
  "language_info": {
   "codemirror_mode": {
    "name": "ipython",
    "version": 3
   },
   "file_extension": ".py",
   "mimetype": "text/x-python",
   "name": "python",
   "nbconvert_exporter": "python",
   "pygments_lexer": "ipython3",
   "version": "3.9.12"
  }
 },
 "nbformat": 4,
 "nbformat_minor": 5
}
