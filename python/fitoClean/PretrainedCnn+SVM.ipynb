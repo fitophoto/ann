{
 "cells": [
  {
   "cell_type": "code",
   "execution_count": 1,
   "id": "792cdb28-2333-425e-88ad-0504ef6a46b5",
   "metadata": {},
   "outputs": [],
   "source": [
    "import torch\n",
    "import torchvision\n",
    "import tqdm\n",
    "import sys\n",
    "import os\n",
    "\n",
    "from IPython.display import clear_output\n",
    "from sklearn.metrics import accuracy_score, balanced_accuracy_score, confusion_matrix, precision_score, recall_score, auc, roc_curve\n",
    "from tqdm.notebook import tqdm_notebook\n",
    "\n",
    "import numpy as np\n",
    "import torch.nn as nn\n",
    "import seaborn as sns\n",
    "import matplotlib.pyplot as plt\n",
    "\n",
    "clear_output()"
   ]
  },
  {
   "cell_type": "markdown",
   "id": "4975ca6d-b352-4804-86d8-9a1ca1a16a8b",
   "metadata": {},
   "source": [
    "### Разделение на обучающую и тестовую выборку в отношении 1 к 4"
   ]
  },
  {
   "cell_type": "code",
   "execution_count": 2,
   "id": "6a46b5db-707b-4cd7-880a-f619e3147e36",
   "metadata": {},
   "outputs": [],
   "source": [
    "dataset = torchvision.datasets.ImageFolder(root=\"C:/Users/Wxei/fitoClean/Data400/\")\n",
    "\n",
    "split_ratio = 0.8\n",
    "\n",
    "train_size = int(split_ratio * len(dataset))\n",
    "test_size = len(dataset) - train_size\n",
    "train_set, test_set = torch.utils.data.random_split(dataset, [train_size, test_size])"
   ]
  },
  {
   "cell_type": "markdown",
   "id": "75ee5fb0-b1bb-4060-aebb-9bd0916c583c",
   "metadata": {},
   "source": [
    "### Добавление аугментаций и фильтра imagenet"
   ]
  },
  {
   "cell_type": "code",
   "execution_count": 3,
   "id": "b8741873-3d34-43c2-b5e4-e8df051211f9",
   "metadata": {},
   "outputs": [],
   "source": [
    "train_set.dataset.transform = torchvision.transforms.Compose([\n",
    "    torchvision.transforms.ToTensor(),\n",
    "    torchvision.transforms.AutoAugment(torchvision.transforms.AutoAugmentPolicy.CIFAR10),\n",
    "    torchvision.transforms.RandomHorizontalFlip(p=0.5),\n",
    "    torchvision.transforms.RandomPosterize(bits=2),\n",
    "    torchvision.transforms.RandomPerspective(distortion_scale=0.05, p=1.0),\n",
    "    torchvision.transforms.Normalize([0.485, 0.456, 0.406], [0.229, 0.224, 0.225])\n",
    "])\n",
    "\n",
    "test_set.dataset.transform = torchvision.transforms.Compose([\n",
    "    torchvision.transforms.ToTensor(),\n",
    "    torchvision.transforms.Normalize([0.485, 0.456, 0.406], [0.229, 0.224, 0.225])\n",
    "])"
   ]
  },
  {
   "cell_type": "code",
   "execution_count": 4,
   "id": "3b056b88-6c26-4890-ab8e-d081c753e3fb",
   "metadata": {},
   "outputs": [],
   "source": [
    "BATCH_SIZE = 128\n",
    "\n",
    "train_loader = torch.utils.data.DataLoader(train_set, batch_size=BATCH_SIZE, shuffle=True,  num_workers=6)\n",
    "test_loader = torch.utils.data.DataLoader(test_set, batch_size=BATCH_SIZE, shuffle=True,  num_workers=6)"
   ]
  },
  {
   "cell_type": "markdown",
   "id": "a49ce8bd-2493-4487-a0ee-78c7113b755c",
   "metadata": {},
   "source": [
    "### Загрузка предобученной сети"
   ]
  },
  {
   "cell_type": "code",
   "execution_count": 5,
   "id": "6d2c6d42-5e21-4d18-b290-26395b59e529",
   "metadata": {},
   "outputs": [],
   "source": [
    "def load_model(path):\n",
    "    model = torch.load(path)\n",
    "    model.eval()\n",
    "    return model\n",
    "\n",
    "cnn_model = load_model(\"C:/Users/Wxei/fitoBack/savedModels/basic-noSoftmax-pretrained-95.5.pt\").cpu()"
   ]
  },
  {
   "cell_type": "code",
   "execution_count": 6,
   "id": "b7e57085-4ee8-46ef-a893-34409015b896",
   "metadata": {},
   "outputs": [],
   "source": [
    "cnn_model.classifier = nn.Flatten()"
   ]
  },
  {
   "cell_type": "code",
   "execution_count": 7,
   "id": "7d83912d-f069-4865-aed1-64a3092d4920",
   "metadata": {},
   "outputs": [
    {
     "data": {
      "text/plain": [
       "AlexNet(\n",
       "  (features): Sequential(\n",
       "    (0): Conv2d(3, 64, kernel_size=(11, 11), stride=(4, 4), padding=(2, 2))\n",
       "    (1): ReLU(inplace=True)\n",
       "    (2): MaxPool2d(kernel_size=3, stride=2, padding=0, dilation=1, ceil_mode=False)\n",
       "    (3): Conv2d(64, 192, kernel_size=(5, 5), stride=(1, 1), padding=(2, 2))\n",
       "    (4): ReLU(inplace=True)\n",
       "    (5): MaxPool2d(kernel_size=3, stride=2, padding=0, dilation=1, ceil_mode=False)\n",
       "    (6): Conv2d(192, 384, kernel_size=(3, 3), stride=(1, 1), padding=(1, 1))\n",
       "    (7): ReLU(inplace=True)\n",
       "    (8): Conv2d(384, 256, kernel_size=(3, 3), stride=(1, 1), padding=(1, 1))\n",
       "    (9): ReLU(inplace=True)\n",
       "    (10): Conv2d(256, 256, kernel_size=(3, 3), stride=(1, 1), padding=(1, 1))\n",
       "    (11): ReLU(inplace=True)\n",
       "    (12): MaxPool2d(kernel_size=3, stride=2, padding=0, dilation=1, ceil_mode=False)\n",
       "  )\n",
       "  (avgpool): AdaptiveAvgPool2d(output_size=(6, 6))\n",
       "  (classifier): Flatten(start_dim=1, end_dim=-1)\n",
       ")"
      ]
     },
     "execution_count": 7,
     "metadata": {},
     "output_type": "execute_result"
    }
   ],
   "source": [
    "cnn_model"
   ]
  },
  {
   "cell_type": "markdown",
   "id": "e5bd7c82-e982-4540-9316-5eceea128e51",
   "metadata": {},
   "source": [
    "### Преобразование обучающей выборки в двумерный numpy массив"
   ]
  },
  {
   "cell_type": "code",
   "execution_count": 8,
   "id": "d8334193-78a5-4b6f-826d-4a4c7d8cae69",
   "metadata": {},
   "outputs": [],
   "source": [
    "train_X, train_Y = None, None\n",
    "for imgs, true_labels in train_loader:\n",
    "    if train_X is None and train_Y is None:\n",
    "        train_X, train_Y = cnn_model(imgs).detach().numpy(), true_labels.numpy()\n",
    "    else:\n",
    "        train_X, train_Y = np.vstack((train_X, cnn_model(imgs).detach().numpy())), np.hstack((train_Y, true_labels))"
   ]
  },
  {
   "cell_type": "markdown",
   "id": "54ff362e-923c-4a61-9c42-e2054e4c2a5e",
   "metadata": {},
   "source": [
    "### Обучение SVM"
   ]
  },
  {
   "cell_type": "code",
   "execution_count": 9,
   "id": "f43a4a6b-dafb-485f-8716-bc04d471a06b",
   "metadata": {},
   "outputs": [],
   "source": [
    "from sklearn.svm import SVC, NuSVC, LinearSVC"
   ]
  },
  {
   "cell_type": "code",
   "execution_count": 10,
   "id": "e4aa9635-0d70-4524-9712-8de24ac212ef",
   "metadata": {},
   "outputs": [
    {
     "data": {
      "text/html": [
       "<style>#sk-container-id-1 {color: black;background-color: white;}#sk-container-id-1 pre{padding: 0;}#sk-container-id-1 div.sk-toggleable {background-color: white;}#sk-container-id-1 label.sk-toggleable__label {cursor: pointer;display: block;width: 100%;margin-bottom: 0;padding: 0.3em;box-sizing: border-box;text-align: center;}#sk-container-id-1 label.sk-toggleable__label-arrow:before {content: \"▸\";float: left;margin-right: 0.25em;color: #696969;}#sk-container-id-1 label.sk-toggleable__label-arrow:hover:before {color: black;}#sk-container-id-1 div.sk-estimator:hover label.sk-toggleable__label-arrow:before {color: black;}#sk-container-id-1 div.sk-toggleable__content {max-height: 0;max-width: 0;overflow: hidden;text-align: left;background-color: #f0f8ff;}#sk-container-id-1 div.sk-toggleable__content pre {margin: 0.2em;color: black;border-radius: 0.25em;background-color: #f0f8ff;}#sk-container-id-1 input.sk-toggleable__control:checked~div.sk-toggleable__content {max-height: 200px;max-width: 100%;overflow: auto;}#sk-container-id-1 input.sk-toggleable__control:checked~label.sk-toggleable__label-arrow:before {content: \"▾\";}#sk-container-id-1 div.sk-estimator input.sk-toggleable__control:checked~label.sk-toggleable__label {background-color: #d4ebff;}#sk-container-id-1 div.sk-label input.sk-toggleable__control:checked~label.sk-toggleable__label {background-color: #d4ebff;}#sk-container-id-1 input.sk-hidden--visually {border: 0;clip: rect(1px 1px 1px 1px);clip: rect(1px, 1px, 1px, 1px);height: 1px;margin: -1px;overflow: hidden;padding: 0;position: absolute;width: 1px;}#sk-container-id-1 div.sk-estimator {font-family: monospace;background-color: #f0f8ff;border: 1px dotted black;border-radius: 0.25em;box-sizing: border-box;margin-bottom: 0.5em;}#sk-container-id-1 div.sk-estimator:hover {background-color: #d4ebff;}#sk-container-id-1 div.sk-parallel-item::after {content: \"\";width: 100%;border-bottom: 1px solid gray;flex-grow: 1;}#sk-container-id-1 div.sk-label:hover label.sk-toggleable__label {background-color: #d4ebff;}#sk-container-id-1 div.sk-serial::before {content: \"\";position: absolute;border-left: 1px solid gray;box-sizing: border-box;top: 0;bottom: 0;left: 50%;z-index: 0;}#sk-container-id-1 div.sk-serial {display: flex;flex-direction: column;align-items: center;background-color: white;padding-right: 0.2em;padding-left: 0.2em;position: relative;}#sk-container-id-1 div.sk-item {position: relative;z-index: 1;}#sk-container-id-1 div.sk-parallel {display: flex;align-items: stretch;justify-content: center;background-color: white;position: relative;}#sk-container-id-1 div.sk-item::before, #sk-container-id-1 div.sk-parallel-item::before {content: \"\";position: absolute;border-left: 1px solid gray;box-sizing: border-box;top: 0;bottom: 0;left: 50%;z-index: -1;}#sk-container-id-1 div.sk-parallel-item {display: flex;flex-direction: column;z-index: 1;position: relative;background-color: white;}#sk-container-id-1 div.sk-parallel-item:first-child::after {align-self: flex-end;width: 50%;}#sk-container-id-1 div.sk-parallel-item:last-child::after {align-self: flex-start;width: 50%;}#sk-container-id-1 div.sk-parallel-item:only-child::after {width: 0;}#sk-container-id-1 div.sk-dashed-wrapped {border: 1px dashed gray;margin: 0 0.4em 0.5em 0.4em;box-sizing: border-box;padding-bottom: 0.4em;background-color: white;}#sk-container-id-1 div.sk-label label {font-family: monospace;font-weight: bold;display: inline-block;line-height: 1.2em;}#sk-container-id-1 div.sk-label-container {text-align: center;}#sk-container-id-1 div.sk-container {/* jupyter's `normalize.less` sets `[hidden] { display: none; }` but bootstrap.min.css set `[hidden] { display: none !important; }` so we also need the `!important` here to be able to override the default hidden behavior on the sphinx rendered scikit-learn.org. See: https://github.com/scikit-learn/scikit-learn/issues/21755 */display: inline-block !important;position: relative;}#sk-container-id-1 div.sk-text-repr-fallback {display: none;}</style><div id=\"sk-container-id-1\" class=\"sk-top-container\"><div class=\"sk-text-repr-fallback\"><pre>LinearSVC()</pre><b>In a Jupyter environment, please rerun this cell to show the HTML representation or trust the notebook. <br />On GitHub, the HTML representation is unable to render, please try loading this page with nbviewer.org.</b></div><div class=\"sk-container\" hidden><div class=\"sk-item\"><div class=\"sk-estimator sk-toggleable\"><input class=\"sk-toggleable__control sk-hidden--visually\" id=\"sk-estimator-id-1\" type=\"checkbox\" checked><label for=\"sk-estimator-id-1\" class=\"sk-toggleable__label sk-toggleable__label-arrow\">LinearSVC</label><div class=\"sk-toggleable__content\"><pre>LinearSVC()</pre></div></div></div></div></div>"
      ],
      "text/plain": [
       "LinearSVC()"
      ]
     },
     "execution_count": 10,
     "metadata": {},
     "output_type": "execute_result"
    }
   ],
   "source": [
    "clf = LinearSVC()\n",
    "clf.fit(train_X, train_Y)"
   ]
  },
  {
   "cell_type": "markdown",
   "id": "4085801c-de70-4b6e-844c-022161b2c800",
   "metadata": {},
   "source": [
    "### Тестирование модели"
   ]
  },
  {
   "cell_type": "code",
   "execution_count": 11,
   "id": "1dc8fe0c-35ba-4021-9ad8-2c699e0a90b2",
   "metadata": {},
   "outputs": [],
   "source": [
    "test_X, test_Y = None, None\n",
    "for imgs, true_labels in test_loader:\n",
    "    if test_X is None and test_Y is None:\n",
    "        test_X, test_Y = cnn_model(imgs).detach().numpy(), true_labels.numpy()\n",
    "    else:\n",
    "        test_X, test_Y = np.vstack((test_X, cnn_model(imgs).detach().numpy())), np.hstack((test_Y, true_labels))"
   ]
  },
  {
   "cell_type": "code",
   "execution_count": 12,
   "id": "45d3319b-7801-41c7-ac7f-bf9898fcec46",
   "metadata": {},
   "outputs": [
    {
     "data": {
      "text/plain": [
       "0.9874686716791979"
      ]
     },
     "execution_count": 12,
     "metadata": {},
     "output_type": "execute_result"
    }
   ],
   "source": [
    "accuracy_score(clf.predict(test_X), test_Y)"
   ]
  },
  {
   "cell_type": "markdown",
   "id": "3731e5f3-2be5-46ee-9949-214ecc2cd4b9",
   "metadata": {},
   "source": [
    "### Перебор параметров с GridSearch"
   ]
  },
  {
   "cell_type": "code",
   "execution_count": 27,
   "id": "69abf9dc-4c56-41db-9538-8adb4d043073",
   "metadata": {},
   "outputs": [],
   "source": [
    "from sklearn.model_selection import GridSearchCV"
   ]
  },
  {
   "cell_type": "code",
   "execution_count": 28,
   "id": "3f82cf0f-6978-466f-81fb-7bb0737320a2",
   "metadata": {},
   "outputs": [
    {
     "name": "stdout",
     "output_type": "stream",
     "text": [
      "Fitting 5 folds for each of 48 candidates, totalling 240 fits\n",
      "[CV] END .........................C=0.1, gamma=1, kernel=rbf; total time=  10.4s\n",
      "[CV] END .........................C=0.1, gamma=1, kernel=rbf; total time=  10.4s\n",
      "[CV] END .........................C=0.1, gamma=1, kernel=rbf; total time=  10.4s\n",
      "[CV] END .........................C=0.1, gamma=1, kernel=rbf; total time=  10.5s\n",
      "[CV] END .........................C=0.1, gamma=1, kernel=rbf; total time=  10.4s\n",
      "[CV] END ........................C=0.1, gamma=1, kernel=poly; total time=   0.7s\n",
      "[CV] END ........................C=0.1, gamma=1, kernel=poly; total time=   0.7s\n",
      "[CV] END ........................C=0.1, gamma=1, kernel=poly; total time=   0.7s\n",
      "[CV] END ........................C=0.1, gamma=1, kernel=poly; total time=   0.7s\n",
      "[CV] END ........................C=0.1, gamma=1, kernel=poly; total time=   0.7s\n",
      "[CV] END .....................C=0.1, gamma=1, kernel=sigmoid; total time=   8.0s\n",
      "[CV] END .....................C=0.1, gamma=1, kernel=sigmoid; total time=   7.9s\n",
      "[CV] END .....................C=0.1, gamma=1, kernel=sigmoid; total time=   7.9s\n",
      "[CV] END .....................C=0.1, gamma=1, kernel=sigmoid; total time=   7.9s\n",
      "[CV] END .....................C=0.1, gamma=1, kernel=sigmoid; total time=   7.9s\n",
      "[CV] END .......................C=0.1, gamma=0.1, kernel=rbf; total time=  10.3s\n",
      "[CV] END .......................C=0.1, gamma=0.1, kernel=rbf; total time=  10.3s\n",
      "[CV] END .......................C=0.1, gamma=0.1, kernel=rbf; total time=  10.3s\n",
      "[CV] END .......................C=0.1, gamma=0.1, kernel=rbf; total time=  10.4s\n",
      "[CV] END .......................C=0.1, gamma=0.1, kernel=rbf; total time=  10.4s\n",
      "[CV] END ......................C=0.1, gamma=0.1, kernel=poly; total time=   0.8s\n",
      "[CV] END ......................C=0.1, gamma=0.1, kernel=poly; total time=   0.7s\n",
      "[CV] END ......................C=0.1, gamma=0.1, kernel=poly; total time=   0.9s\n",
      "[CV] END ......................C=0.1, gamma=0.1, kernel=poly; total time=   0.8s\n",
      "[CV] END ......................C=0.1, gamma=0.1, kernel=poly; total time=   1.0s\n",
      "[CV] END ...................C=0.1, gamma=0.1, kernel=sigmoid; total time=   8.2s\n",
      "[CV] END ...................C=0.1, gamma=0.1, kernel=sigmoid; total time=   8.1s\n",
      "[CV] END ...................C=0.1, gamma=0.1, kernel=sigmoid; total time=   8.2s\n",
      "[CV] END ...................C=0.1, gamma=0.1, kernel=sigmoid; total time=   8.5s\n",
      "[CV] END ...................C=0.1, gamma=0.1, kernel=sigmoid; total time=   8.1s\n",
      "[CV] END ......................C=0.1, gamma=0.01, kernel=rbf; total time=  10.3s\n",
      "[CV] END ......................C=0.1, gamma=0.01, kernel=rbf; total time=  10.3s\n",
      "[CV] END ......................C=0.1, gamma=0.01, kernel=rbf; total time=  10.3s\n",
      "[CV] END ......................C=0.1, gamma=0.01, kernel=rbf; total time=  10.5s\n",
      "[CV] END ......................C=0.1, gamma=0.01, kernel=rbf; total time=  10.5s\n",
      "[CV] END .....................C=0.1, gamma=0.01, kernel=poly; total time=   0.7s\n",
      "[CV] END .....................C=0.1, gamma=0.01, kernel=poly; total time=   0.7s\n",
      "[CV] END .....................C=0.1, gamma=0.01, kernel=poly; total time=   0.7s\n",
      "[CV] END .....................C=0.1, gamma=0.01, kernel=poly; total time=   0.7s\n",
      "[CV] END .....................C=0.1, gamma=0.01, kernel=poly; total time=   0.7s\n",
      "[CV] END ..................C=0.1, gamma=0.01, kernel=sigmoid; total time=   8.2s\n",
      "[CV] END ..................C=0.1, gamma=0.01, kernel=sigmoid; total time=   8.2s\n",
      "[CV] END ..................C=0.1, gamma=0.01, kernel=sigmoid; total time=   8.3s\n",
      "[CV] END ..................C=0.1, gamma=0.01, kernel=sigmoid; total time=   8.3s\n",
      "[CV] END ..................C=0.1, gamma=0.01, kernel=sigmoid; total time=   8.1s\n",
      "[CV] END .....................C=0.1, gamma=0.001, kernel=rbf; total time=  10.1s\n",
      "[CV] END .....................C=0.1, gamma=0.001, kernel=rbf; total time=  10.3s\n",
      "[CV] END .....................C=0.1, gamma=0.001, kernel=rbf; total time=  10.6s\n",
      "[CV] END .....................C=0.1, gamma=0.001, kernel=rbf; total time=   9.9s\n",
      "[CV] END .....................C=0.1, gamma=0.001, kernel=rbf; total time=  10.7s\n",
      "[CV] END ....................C=0.1, gamma=0.001, kernel=poly; total time=   0.8s\n",
      "[CV] END ....................C=0.1, gamma=0.001, kernel=poly; total time=   0.7s\n",
      "[CV] END ....................C=0.1, gamma=0.001, kernel=poly; total time=   0.7s\n",
      "[CV] END ....................C=0.1, gamma=0.001, kernel=poly; total time=   0.6s\n",
      "[CV] END ....................C=0.1, gamma=0.001, kernel=poly; total time=   0.7s\n",
      "[CV] END .................C=0.1, gamma=0.001, kernel=sigmoid; total time=   7.6s\n",
      "[CV] END .................C=0.1, gamma=0.001, kernel=sigmoid; total time=   7.8s\n",
      "[CV] END .................C=0.1, gamma=0.001, kernel=sigmoid; total time=   7.6s\n",
      "[CV] END .................C=0.1, gamma=0.001, kernel=sigmoid; total time=   8.2s\n",
      "[CV] END .................C=0.1, gamma=0.001, kernel=sigmoid; total time=   7.7s\n",
      "[CV] END ...........................C=1, gamma=1, kernel=rbf; total time=  10.3s\n",
      "[CV] END ...........................C=1, gamma=1, kernel=rbf; total time=  10.4s\n",
      "[CV] END ...........................C=1, gamma=1, kernel=rbf; total time=  11.6s\n",
      "[CV] END ...........................C=1, gamma=1, kernel=rbf; total time=  10.4s\n",
      "[CV] END ...........................C=1, gamma=1, kernel=rbf; total time=  10.7s\n",
      "[CV] END ..........................C=1, gamma=1, kernel=poly; total time=   0.8s\n",
      "[CV] END ..........................C=1, gamma=1, kernel=poly; total time=   0.8s\n",
      "[CV] END ..........................C=1, gamma=1, kernel=poly; total time=   0.7s\n",
      "[CV] END ..........................C=1, gamma=1, kernel=poly; total time=   0.8s\n",
      "[CV] END ..........................C=1, gamma=1, kernel=poly; total time=   0.8s\n",
      "[CV] END .......................C=1, gamma=1, kernel=sigmoid; total time=   8.0s\n",
      "[CV] END .......................C=1, gamma=1, kernel=sigmoid; total time=   7.9s\n",
      "[CV] END .......................C=1, gamma=1, kernel=sigmoid; total time=   8.1s\n",
      "[CV] END .......................C=1, gamma=1, kernel=sigmoid; total time=   8.2s\n",
      "[CV] END .......................C=1, gamma=1, kernel=sigmoid; total time=   8.3s\n",
      "[CV] END .........................C=1, gamma=0.1, kernel=rbf; total time=  10.7s\n",
      "[CV] END .........................C=1, gamma=0.1, kernel=rbf; total time=  10.7s\n",
      "[CV] END .........................C=1, gamma=0.1, kernel=rbf; total time=  10.4s\n",
      "[CV] END .........................C=1, gamma=0.1, kernel=rbf; total time=  10.4s\n",
      "[CV] END .........................C=1, gamma=0.1, kernel=rbf; total time=  10.2s\n",
      "[CV] END ........................C=1, gamma=0.1, kernel=poly; total time=   0.7s\n",
      "[CV] END ........................C=1, gamma=0.1, kernel=poly; total time=   0.7s\n",
      "[CV] END ........................C=1, gamma=0.1, kernel=poly; total time=   0.7s\n",
      "[CV] END ........................C=1, gamma=0.1, kernel=poly; total time=   0.6s\n",
      "[CV] END ........................C=1, gamma=0.1, kernel=poly; total time=   0.7s\n",
      "[CV] END .....................C=1, gamma=0.1, kernel=sigmoid; total time=   8.1s\n",
      "[CV] END .....................C=1, gamma=0.1, kernel=sigmoid; total time=   7.9s\n",
      "[CV] END .....................C=1, gamma=0.1, kernel=sigmoid; total time=   7.8s\n",
      "[CV] END .....................C=1, gamma=0.1, kernel=sigmoid; total time=   7.9s\n",
      "[CV] END .....................C=1, gamma=0.1, kernel=sigmoid; total time=   8.1s\n",
      "[CV] END ........................C=1, gamma=0.01, kernel=rbf; total time=  10.3s\n",
      "[CV] END ........................C=1, gamma=0.01, kernel=rbf; total time=  10.6s\n",
      "[CV] END ........................C=1, gamma=0.01, kernel=rbf; total time=  10.2s\n",
      "[CV] END ........................C=1, gamma=0.01, kernel=rbf; total time=  10.2s\n",
      "[CV] END ........................C=1, gamma=0.01, kernel=rbf; total time=  10.7s\n",
      "[CV] END .......................C=1, gamma=0.01, kernel=poly; total time=   0.7s\n",
      "[CV] END .......................C=1, gamma=0.01, kernel=poly; total time=   0.7s\n",
      "[CV] END .......................C=1, gamma=0.01, kernel=poly; total time=   0.7s\n",
      "[CV] END .......................C=1, gamma=0.01, kernel=poly; total time=   0.7s\n",
      "[CV] END .......................C=1, gamma=0.01, kernel=poly; total time=   0.8s\n",
      "[CV] END ....................C=1, gamma=0.01, kernel=sigmoid; total time=   8.7s\n",
      "[CV] END ....................C=1, gamma=0.01, kernel=sigmoid; total time=   8.5s\n",
      "[CV] END ....................C=1, gamma=0.01, kernel=sigmoid; total time=   8.3s\n",
      "[CV] END ....................C=1, gamma=0.01, kernel=sigmoid; total time=   8.5s\n",
      "[CV] END ....................C=1, gamma=0.01, kernel=sigmoid; total time=   8.5s\n",
      "[CV] END .......................C=1, gamma=0.001, kernel=rbf; total time=  10.3s\n",
      "[CV] END .......................C=1, gamma=0.001, kernel=rbf; total time=  10.5s\n",
      "[CV] END .......................C=1, gamma=0.001, kernel=rbf; total time=   9.7s\n",
      "[CV] END .......................C=1, gamma=0.001, kernel=rbf; total time=  10.2s\n",
      "[CV] END .......................C=1, gamma=0.001, kernel=rbf; total time=  10.3s\n",
      "[CV] END ......................C=1, gamma=0.001, kernel=poly; total time=   0.7s\n",
      "[CV] END ......................C=1, gamma=0.001, kernel=poly; total time=   0.7s\n",
      "[CV] END ......................C=1, gamma=0.001, kernel=poly; total time=   0.7s\n",
      "[CV] END ......................C=1, gamma=0.001, kernel=poly; total time=   0.6s\n",
      "[CV] END ......................C=1, gamma=0.001, kernel=poly; total time=   0.7s\n",
      "[CV] END ...................C=1, gamma=0.001, kernel=sigmoid; total time=   5.9s\n",
      "[CV] END ...................C=1, gamma=0.001, kernel=sigmoid; total time=   5.9s\n",
      "[CV] END ...................C=1, gamma=0.001, kernel=sigmoid; total time=   5.7s\n",
      "[CV] END ...................C=1, gamma=0.001, kernel=sigmoid; total time=   5.8s\n",
      "[CV] END ...................C=1, gamma=0.001, kernel=sigmoid; total time=   5.7s\n",
      "[CV] END ..........................C=10, gamma=1, kernel=rbf; total time=  10.5s\n",
      "[CV] END ..........................C=10, gamma=1, kernel=rbf; total time=  10.6s\n",
      "[CV] END ..........................C=10, gamma=1, kernel=rbf; total time=  10.7s\n",
      "[CV] END ..........................C=10, gamma=1, kernel=rbf; total time=  10.7s\n",
      "[CV] END ..........................C=10, gamma=1, kernel=rbf; total time=  10.5s\n",
      "[CV] END .........................C=10, gamma=1, kernel=poly; total time=   0.7s\n",
      "[CV] END .........................C=10, gamma=1, kernel=poly; total time=   0.7s\n",
      "[CV] END .........................C=10, gamma=1, kernel=poly; total time=   0.6s\n",
      "[CV] END .........................C=10, gamma=1, kernel=poly; total time=   0.7s\n",
      "[CV] END .........................C=10, gamma=1, kernel=poly; total time=   0.7s\n",
      "[CV] END ......................C=10, gamma=1, kernel=sigmoid; total time=   8.0s\n",
      "[CV] END ......................C=10, gamma=1, kernel=sigmoid; total time=   8.1s\n",
      "[CV] END ......................C=10, gamma=1, kernel=sigmoid; total time=   8.1s\n",
      "[CV] END ......................C=10, gamma=1, kernel=sigmoid; total time=   7.8s\n",
      "[CV] END ......................C=10, gamma=1, kernel=sigmoid; total time=   7.9s\n",
      "[CV] END ........................C=10, gamma=0.1, kernel=rbf; total time=  10.5s\n",
      "[CV] END ........................C=10, gamma=0.1, kernel=rbf; total time=  10.7s\n",
      "[CV] END ........................C=10, gamma=0.1, kernel=rbf; total time=  10.5s\n",
      "[CV] END ........................C=10, gamma=0.1, kernel=rbf; total time=  10.2s\n",
      "[CV] END ........................C=10, gamma=0.1, kernel=rbf; total time=  10.2s\n",
      "[CV] END .......................C=10, gamma=0.1, kernel=poly; total time=   0.7s\n",
      "[CV] END .......................C=10, gamma=0.1, kernel=poly; total time=   0.7s\n",
      "[CV] END .......................C=10, gamma=0.1, kernel=poly; total time=   0.6s\n",
      "[CV] END .......................C=10, gamma=0.1, kernel=poly; total time=   0.7s\n",
      "[CV] END .......................C=10, gamma=0.1, kernel=poly; total time=   0.7s\n",
      "[CV] END ....................C=10, gamma=0.1, kernel=sigmoid; total time=   7.6s\n",
      "[CV] END ....................C=10, gamma=0.1, kernel=sigmoid; total time=   7.8s\n",
      "[CV] END ....................C=10, gamma=0.1, kernel=sigmoid; total time=   7.9s\n",
      "[CV] END ....................C=10, gamma=0.1, kernel=sigmoid; total time=   7.7s\n",
      "[CV] END ....................C=10, gamma=0.1, kernel=sigmoid; total time=   7.6s\n",
      "[CV] END .......................C=10, gamma=0.01, kernel=rbf; total time=  10.0s\n",
      "[CV] END .......................C=10, gamma=0.01, kernel=rbf; total time=  10.1s\n",
      "[CV] END .......................C=10, gamma=0.01, kernel=rbf; total time=  10.1s\n",
      "[CV] END .......................C=10, gamma=0.01, kernel=rbf; total time=  10.1s\n",
      "[CV] END .......................C=10, gamma=0.01, kernel=rbf; total time=  10.0s\n",
      "[CV] END ......................C=10, gamma=0.01, kernel=poly; total time=   0.7s\n",
      "[CV] END ......................C=10, gamma=0.01, kernel=poly; total time=   0.7s\n",
      "[CV] END ......................C=10, gamma=0.01, kernel=poly; total time=   0.6s\n",
      "[CV] END ......................C=10, gamma=0.01, kernel=poly; total time=   0.6s\n",
      "[CV] END ......................C=10, gamma=0.01, kernel=poly; total time=   0.7s\n",
      "[CV] END ...................C=10, gamma=0.01, kernel=sigmoid; total time=   7.8s\n",
      "[CV] END ...................C=10, gamma=0.01, kernel=sigmoid; total time=   7.7s\n",
      "[CV] END ...................C=10, gamma=0.01, kernel=sigmoid; total time=   7.3s\n",
      "[CV] END ...................C=10, gamma=0.01, kernel=sigmoid; total time=   7.1s\n",
      "[CV] END ...................C=10, gamma=0.01, kernel=sigmoid; total time=   7.7s\n",
      "[CV] END ......................C=10, gamma=0.001, kernel=rbf; total time=   9.7s\n",
      "[CV] END ......................C=10, gamma=0.001, kernel=rbf; total time=   9.7s\n",
      "[CV] END ......................C=10, gamma=0.001, kernel=rbf; total time=   9.7s\n",
      "[CV] END ......................C=10, gamma=0.001, kernel=rbf; total time=   9.7s\n",
      "[CV] END ......................C=10, gamma=0.001, kernel=rbf; total time=   9.7s\n",
      "[CV] END .....................C=10, gamma=0.001, kernel=poly; total time=   0.7s\n",
      "[CV] END .....................C=10, gamma=0.001, kernel=poly; total time=   0.7s\n",
      "[CV] END .....................C=10, gamma=0.001, kernel=poly; total time=   0.7s\n",
      "[CV] END .....................C=10, gamma=0.001, kernel=poly; total time=   0.6s\n",
      "[CV] END .....................C=10, gamma=0.001, kernel=poly; total time=   0.7s\n",
      "[CV] END ..................C=10, gamma=0.001, kernel=sigmoid; total time=   4.6s\n",
      "[CV] END ..................C=10, gamma=0.001, kernel=sigmoid; total time=   4.8s\n",
      "[CV] END ..................C=10, gamma=0.001, kernel=sigmoid; total time=   4.7s\n",
      "[CV] END ..................C=10, gamma=0.001, kernel=sigmoid; total time=   4.5s\n",
      "[CV] END ..................C=10, gamma=0.001, kernel=sigmoid; total time=   4.6s\n",
      "[CV] END .........................C=100, gamma=1, kernel=rbf; total time=  10.2s\n",
      "[CV] END .........................C=100, gamma=1, kernel=rbf; total time=  10.2s\n",
      "[CV] END .........................C=100, gamma=1, kernel=rbf; total time=  10.2s\n",
      "[CV] END .........................C=100, gamma=1, kernel=rbf; total time=  10.5s\n",
      "[CV] END .........................C=100, gamma=1, kernel=rbf; total time=  10.6s\n",
      "[CV] END ........................C=100, gamma=1, kernel=poly; total time=   0.7s\n",
      "[CV] END ........................C=100, gamma=1, kernel=poly; total time=   0.7s\n",
      "[CV] END ........................C=100, gamma=1, kernel=poly; total time=   0.7s\n",
      "[CV] END ........................C=100, gamma=1, kernel=poly; total time=   0.7s\n",
      "[CV] END ........................C=100, gamma=1, kernel=poly; total time=   0.7s\n",
      "[CV] END .....................C=100, gamma=1, kernel=sigmoid; total time=   8.0s\n",
      "[CV] END .....................C=100, gamma=1, kernel=sigmoid; total time=   7.8s\n",
      "[CV] END .....................C=100, gamma=1, kernel=sigmoid; total time=   8.2s\n",
      "[CV] END .....................C=100, gamma=1, kernel=sigmoid; total time=   8.2s\n",
      "[CV] END .....................C=100, gamma=1, kernel=sigmoid; total time=   8.0s\n",
      "[CV] END .......................C=100, gamma=0.1, kernel=rbf; total time=  10.4s\n",
      "[CV] END .......................C=100, gamma=0.1, kernel=rbf; total time=  10.3s\n",
      "[CV] END .......................C=100, gamma=0.1, kernel=rbf; total time=  10.5s\n",
      "[CV] END .......................C=100, gamma=0.1, kernel=rbf; total time=  10.5s\n",
      "[CV] END .......................C=100, gamma=0.1, kernel=rbf; total time=  10.6s\n",
      "[CV] END ......................C=100, gamma=0.1, kernel=poly; total time=   0.7s\n",
      "[CV] END ......................C=100, gamma=0.1, kernel=poly; total time=   0.7s\n",
      "[CV] END ......................C=100, gamma=0.1, kernel=poly; total time=   0.6s\n",
      "[CV] END ......................C=100, gamma=0.1, kernel=poly; total time=   0.6s\n",
      "[CV] END ......................C=100, gamma=0.1, kernel=poly; total time=   0.7s\n",
      "[CV] END ...................C=100, gamma=0.1, kernel=sigmoid; total time=   7.3s\n",
      "[CV] END ...................C=100, gamma=0.1, kernel=sigmoid; total time=   8.1s\n",
      "[CV] END ...................C=100, gamma=0.1, kernel=sigmoid; total time=   7.6s\n",
      "[CV] END ...................C=100, gamma=0.1, kernel=sigmoid; total time=   7.8s\n",
      "[CV] END ...................C=100, gamma=0.1, kernel=sigmoid; total time=   7.5s\n",
      "[CV] END ......................C=100, gamma=0.01, kernel=rbf; total time=  10.4s\n",
      "[CV] END ......................C=100, gamma=0.01, kernel=rbf; total time=  10.6s\n",
      "[CV] END ......................C=100, gamma=0.01, kernel=rbf; total time=  10.2s\n",
      "[CV] END ......................C=100, gamma=0.01, kernel=rbf; total time=  10.2s\n",
      "[CV] END ......................C=100, gamma=0.01, kernel=rbf; total time=  10.1s\n",
      "[CV] END .....................C=100, gamma=0.01, kernel=poly; total time=   0.7s\n",
      "[CV] END .....................C=100, gamma=0.01, kernel=poly; total time=   0.7s\n",
      "[CV] END .....................C=100, gamma=0.01, kernel=poly; total time=   0.6s\n",
      "[CV] END .....................C=100, gamma=0.01, kernel=poly; total time=   0.6s\n",
      "[CV] END .....................C=100, gamma=0.01, kernel=poly; total time=   0.7s\n",
      "[CV] END ..................C=100, gamma=0.01, kernel=sigmoid; total time=   7.0s\n",
      "[CV] END ..................C=100, gamma=0.01, kernel=sigmoid; total time=   7.8s\n",
      "[CV] END ..................C=100, gamma=0.01, kernel=sigmoid; total time=   6.6s\n",
      "[CV] END ..................C=100, gamma=0.01, kernel=sigmoid; total time=   6.5s\n",
      "[CV] END ..................C=100, gamma=0.01, kernel=sigmoid; total time=   7.0s\n",
      "[CV] END .....................C=100, gamma=0.001, kernel=rbf; total time=   9.7s\n",
      "[CV] END .....................C=100, gamma=0.001, kernel=rbf; total time=  10.1s\n",
      "[CV] END .....................C=100, gamma=0.001, kernel=rbf; total time=   9.8s\n",
      "[CV] END .....................C=100, gamma=0.001, kernel=rbf; total time=   9.9s\n",
      "[CV] END .....................C=100, gamma=0.001, kernel=rbf; total time=   9.8s\n",
      "[CV] END ....................C=100, gamma=0.001, kernel=poly; total time=   0.7s\n",
      "[CV] END ....................C=100, gamma=0.001, kernel=poly; total time=   0.7s\n",
      "[CV] END ....................C=100, gamma=0.001, kernel=poly; total time=   0.6s\n",
      "[CV] END ....................C=100, gamma=0.001, kernel=poly; total time=   0.6s\n",
      "[CV] END ....................C=100, gamma=0.001, kernel=poly; total time=   0.7s\n",
      "[CV] END .................C=100, gamma=0.001, kernel=sigmoid; total time=   4.7s\n",
      "[CV] END .................C=100, gamma=0.001, kernel=sigmoid; total time=   4.8s\n",
      "[CV] END .................C=100, gamma=0.001, kernel=sigmoid; total time=   4.7s\n",
      "[CV] END .................C=100, gamma=0.001, kernel=sigmoid; total time=   4.5s\n",
      "[CV] END .................C=100, gamma=0.001, kernel=sigmoid; total time=   4.6s\n",
      "SVC(C=0.1, gamma=0.001, kernel='poly')\n"
     ]
    }
   ],
   "source": [
    "param_grid = {'C': [0.1,1, 10, 100], 'gamma': [1,0.1,0.01,0.001],'kernel': ['rbf', 'poly', 'sigmoid']}\n",
    "\n",
    "grid = GridSearchCV(SVC(),param_grid,refit=True,verbose=2)\n",
    "grid.fit(train_X, train_Y)\n",
    "print(grid.best_estimator_)"
   ]
  },
  {
   "cell_type": "markdown",
   "id": "4dde95fc-07c7-4d4a-a7ee-adf5fcd1fe0d",
   "metadata": {},
   "source": [
    "### Сохранение Модели"
   ]
  },
  {
   "cell_type": "code",
   "execution_count": 46,
   "id": "884d5a65-3876-4e83-b71a-bae276cccb6c",
   "metadata": {},
   "outputs": [],
   "source": [
    "import pickle\n",
    "file = open(\"savedModels/SVMclf.pckl\", 'wb')\n",
    "pickle.dump(clf, file)\n",
    "file = open(\"savedModels/SVMCNN.pckl\", 'wb')\n",
    "pickle.dump(cnn_model, file)"
   ]
  },
  {
   "cell_type": "code",
   "execution_count": null,
   "id": "40d8e1b2-e63b-4f00-89ef-088795abe6c1",
   "metadata": {},
   "outputs": [],
   "source": []
  }
 ],
 "metadata": {
  "kernelspec": {
   "display_name": "fito",
   "language": "python",
   "name": "fito"
  },
  "language_info": {
   "codemirror_mode": {
    "name": "ipython",
    "version": 3
   },
   "file_extension": ".py",
   "mimetype": "text/x-python",
   "name": "python",
   "nbconvert_exporter": "python",
   "pygments_lexer": "ipython3",
   "version": "3.9.12"
  }
 },
 "nbformat": 4,
 "nbformat_minor": 5
}
