{
 "cells": [
  {
   "cell_type": "code",
   "execution_count": 57,
   "id": "083d34bf-3b22-4655-bf59-0ddd0b824c9b",
   "metadata": {},
   "outputs": [],
   "source": [
    "from PIL import Image\n",
    "import numpy as np\n",
    "import os"
   ]
  },
  {
   "cell_type": "code",
   "execution_count": 58,
   "id": "a3409bf9-c65d-4519-b8b2-f63317095abd",
   "metadata": {},
   "outputs": [],
   "source": [
    "def convert(inp_path, out_path):\n",
    "    for filename in os.listdir(inp_path):\n",
    "        image = Image.open(inp_path+'/'+filename)\n",
    "        if image.size != (3024, 4032) and image.size != (4032, 3024):\n",
    "            continue\n",
    "        elif image.size == (4032, 3024):\n",
    "            image = image.rotate(270, expand=True)\n",
    "        image.thumbnail((75, 100), Image.ANTIALIAS)\n",
    "        image.save(out_path+'/'+filename)"
   ]
  },
  {
   "cell_type": "code",
   "execution_count": 59,
   "id": "cf33eda8-8736-4232-849a-05b3a44f2f5a",
   "metadata": {
    "tags": []
   },
   "outputs": [],
   "source": [
    "convert('C:/Users/Nexei/fito/data/jpg-odd/healthy', 'C:/Users/Nexei/fito/data-odd-light/healthy')"
   ]
  },
  {
   "cell_type": "code",
   "execution_count": 60,
   "id": "77dbe0fe-564e-4a4d-8ee3-ff90f4560c9c",
   "metadata": {},
   "outputs": [],
   "source": [
    "convert('C:/Users/Nexei/fito/data/jpg-odd/ill', 'C:/Users/Nexei/fito/data-odd-light/ill')"
   ]
  }
 ],
 "metadata": {
  "kernelspec": {
   "display_name": "Python 3 (ipykernel)",
   "language": "python",
   "name": "python3"
  },
  "language_info": {
   "codemirror_mode": {
    "name": "ipython",
    "version": 3
   },
   "file_extension": ".py",
   "mimetype": "text/x-python",
   "name": "python",
   "nbconvert_exporter": "python",
   "pygments_lexer": "ipython3",
   "version": "3.9.7"
  }
 },
 "nbformat": 4,
 "nbformat_minor": 5
}
