{
 "cells": [
  {
   "cell_type": "code",
   "execution_count": 59,
   "id": "1c5fcd1c-1339-4b77-a7a8-806f915176bc",
   "metadata": {
    "tags": []
   },
   "outputs": [],
   "source": [
    "import numpy as np\n",
    "import torch\n",
    "import torch.nn as nn\n",
    "import torchvision\n",
    "import tqdm\n",
    "import sys\n",
    "import os\n",
    "\n",
    "from sklearn.metrics import accuracy_score, balanced_accuracy_score, confusion_matrix, precision_score, recall_score, auc, roc_curve\n",
    "from tqdm.notebook import tqdm_notebook\n",
    "\n",
    "import seaborn as sns\n",
    "import matplotlib.pyplot as plt"
   ]
  },
  {
   "cell_type": "code",
   "execution_count": 60,
   "id": "86613284-0f48-4ecf-be98-70e2c931de36",
   "metadata": {},
   "outputs": [],
   "source": [
    "sns.set_theme()\n",
    "sns.set(font_scale=1.3)\n",
    "sns.set_style(\"darkgrid\", {\"axes.facecolor\": \".9\"})"
   ]
  },
  {
   "cell_type": "code",
   "execution_count": 80,
   "id": "74febba6-e22b-4089-bef8-626a13f7a15b",
   "metadata": {},
   "outputs": [],
   "source": [
    "\n",
    "dataset = torchvision.datasets.ImageFolder(root=\"C:/Users/Wxei/fitoBack/Data400/\")\n",
    "\n",
    "split_ratio = 0.8\n",
    "\n",
    "train_size = int(split_ratio * len(dataset))\n",
    "test_size = len(dataset) - train_size\n",
    "train_set, test_set = torch.utils.data.random_split(dataset, [train_size, test_size])"
   ]
  },
  {
   "cell_type": "code",
   "execution_count": 81,
   "id": "15db7b9b-a67b-42d7-981f-eef8a0c05b3e",
   "metadata": {},
   "outputs": [],
   "source": [
    "train_set.dataset.transform = torchvision.transforms.Compose([\n",
    "    torchvision.transforms.ToTensor(),\n",
    "    torchvision.transforms.AutoAugment(torchvision.transforms.AutoAugmentPolicy.CIFAR10),\n",
    "    torchvision.transforms.RandomHorizontalFlip(p=0.5),\n",
    "    torchvision.transforms.RandomPosterize(bits=2),\n",
    "    torchvision.transforms.RandomPerspective(distortion_scale=0.05, p=1.0),\n",
    "    torchvision.transforms.Normalize([0.485, 0.456, 0.406], [0.229, 0.224, 0.225])\n",
    "])\n",
    "\n",
    "test_set.dataset.transform = torchvision.transforms.Compose([\n",
    "    torchvision.transforms.ToTensor(),\n",
    "    torchvision.transforms.Normalize([0.485, 0.456, 0.406], [0.229, 0.224, 0.225])\n",
    "])"
   ]
  },
  {
   "cell_type": "code",
   "execution_count": 82,
   "id": "2f2e4023-1acf-479d-a96e-1ab194e68d92",
   "metadata": {},
   "outputs": [],
   "source": [
    "BATCH_SIZE = 128\n",
    "\n",
    "train_loader = torch.utils.data.DataLoader(train_set, batch_size=BATCH_SIZE, shuffle=True,  num_workers=6)\n",
    "test_loader = torch.utils.data.DataLoader(test_set, batch_size=BATCH_SIZE, shuffle=True,  num_workers=6)\n",
    "\n",
    "cuda = torch.device('cuda')"
   ]
  },
  {
   "cell_type": "code",
   "execution_count": null,
   "id": "d41a4962-1103-4340-891e-0a243fc2be9b",
   "metadata": {},
   "outputs": [],
   "source": []
  },
  {
   "cell_type": "code",
   "execution_count": 83,
   "id": "85249c0b-5e4d-42b4-9449-09623fea941f",
   "metadata": {
    "tags": []
   },
   "outputs": [],
   "source": [
    "import torchvision.models as models\n",
    "model = models.alexnet(pretrained=True)"
   ]
  },
  {
   "cell_type": "code",
   "execution_count": 84,
   "id": "b7f89570-48d7-4f57-b722-3cae1582bf82",
   "metadata": {
    "tags": []
   },
   "outputs": [],
   "source": [
    "model.classifier = nn.Sequential(\n",
    "    nn.Dropout(0.5),\n",
    "    nn.Linear(in_features=9216, out_features=128, bias=True),\n",
    "    nn.ReLU(),\n",
    "    nn.Linear(in_features=128, out_features=3, bias=True)\n",
    ")"
   ]
  },
  {
   "cell_type": "code",
   "execution_count": 85,
   "id": "26eb0289-eb88-48c2-86bc-8ed82f99c2dc",
   "metadata": {
    "tags": []
   },
   "outputs": [
    {
     "data": {
      "text/plain": [
       "AlexNet(\n",
       "  (features): Sequential(\n",
       "    (0): Conv2d(3, 64, kernel_size=(11, 11), stride=(4, 4), padding=(2, 2))\n",
       "    (1): ReLU(inplace=True)\n",
       "    (2): MaxPool2d(kernel_size=3, stride=2, padding=0, dilation=1, ceil_mode=False)\n",
       "    (3): Conv2d(64, 192, kernel_size=(5, 5), stride=(1, 1), padding=(2, 2))\n",
       "    (4): ReLU(inplace=True)\n",
       "    (5): MaxPool2d(kernel_size=3, stride=2, padding=0, dilation=1, ceil_mode=False)\n",
       "    (6): Conv2d(192, 384, kernel_size=(3, 3), stride=(1, 1), padding=(1, 1))\n",
       "    (7): ReLU(inplace=True)\n",
       "    (8): Conv2d(384, 256, kernel_size=(3, 3), stride=(1, 1), padding=(1, 1))\n",
       "    (9): ReLU(inplace=True)\n",
       "    (10): Conv2d(256, 256, kernel_size=(3, 3), stride=(1, 1), padding=(1, 1))\n",
       "    (11): ReLU(inplace=True)\n",
       "    (12): MaxPool2d(kernel_size=3, stride=2, padding=0, dilation=1, ceil_mode=False)\n",
       "  )\n",
       "  (avgpool): AdaptiveAvgPool2d(output_size=(6, 6))\n",
       "  (classifier): Sequential(\n",
       "    (0): Dropout(p=0.5, inplace=False)\n",
       "    (1): Linear(in_features=9216, out_features=128, bias=True)\n",
       "    (2): ReLU()\n",
       "    (3): Linear(in_features=128, out_features=3, bias=True)\n",
       "  )\n",
       ")"
      ]
     },
     "execution_count": 85,
     "metadata": {},
     "output_type": "execute_result"
    }
   ],
   "source": [
    "model.to(cuda)"
   ]
  },
  {
   "cell_type": "code",
   "execution_count": 86,
   "id": "6f06e85e-1ff0-471e-9f3a-d9f5345fe01e",
   "metadata": {
    "tags": []
   },
   "outputs": [
    {
     "data": {
      "text/plain": [
       "Counter({0: 442, 1: 804, 2: 745})"
      ]
     },
     "execution_count": 86,
     "metadata": {},
     "output_type": "execute_result"
    }
   ],
   "source": [
    "from collections import Counter\n",
    "\n",
    "count = Counter(dataset.targets)\n",
    "count"
   ]
  },
  {
   "cell_type": "code",
   "execution_count": 87,
   "id": "543a3872-9242-4a3a-9acf-b726de692661",
   "metadata": {
    "tags": []
   },
   "outputs": [
    {
     "data": {
      "text/plain": [
       "tensor([4.3710, 2.4030, 2.5933])"
      ]
     },
     "execution_count": 87,
     "metadata": {},
     "output_type": "execute_result"
    }
   ],
   "source": [
    "healthy_count = count[0]\n",
    "rot_count = count[1]\n",
    "rust_count = count[2]\n",
    "sum_count = healthy_count + rust_count + rust_count\n",
    "\n",
    "class_weights = torch.tensor([sum_count / healthy_count, sum_count/rot_count, sum_count / rust_count], dtype=torch.float)\n",
    "class_weights"
   ]
  },
  {
   "cell_type": "code",
   "execution_count": 88,
   "id": "fa08b980-b55f-4041-a6c5-202f6428fc0c",
   "metadata": {
    "tags": []
   },
   "outputs": [],
   "source": [
    "criterion = torch.nn.CrossEntropyLoss(weight=class_weights.to(cuda))\n",
    "optimizer = torch.optim.Adam(model.parameters())\n",
    "scheduler = torch.optim.lr_scheduler.ExponentialLR(optimizer, gamma=0.95)\n",
    "\n",
    "n_epochs = 50"
   ]
  },
  {
   "cell_type": "code",
   "execution_count": 89,
   "id": "6f7263c3-7c07-46e4-a302-e5352817d62c",
   "metadata": {
    "tags": []
   },
   "outputs": [],
   "source": [
    "def train_epoch(model, train_loader, criterion, optimizer, device=\"cuda:0\"):\n",
    "    model.train()\n",
    "    train_losses = []\n",
    "    for imgs, true_labels in train_loader:\n",
    "        out = model(imgs.to(device)).squeeze()\n",
    "        loss = criterion(out, true_labels.to(device))\n",
    "\n",
    "        optimizer.zero_grad()\n",
    "        loss.backward()\n",
    "        optimizer.step()\n",
    "        \n",
    "        train_losses.append(loss.item())\n",
    "    \n",
    "    sns.lineplot(x=range(len(train_losses)), y=train_losses)\n",
    "    plt.xlabel('train step')\n",
    "    plt.ylabel('train loss')\n",
    "    plt.show()"
   ]
  },
  {
   "cell_type": "code",
   "execution_count": 90,
   "id": "f0f9d56a-194f-47b7-ac65-2926f4552481",
   "metadata": {
    "tags": []
   },
   "outputs": [],
   "source": [
    "def run_test(model, test_loader, device):\n",
    "    model.eval()\n",
    "    with torch.no_grad():\n",
    "        out, labels = [], []\n",
    "        for imgs, true_labels in test_loader:\n",
    "            out += model(imgs.to(device)).squeeze().detach().cpu().tolist()\n",
    "            labels += true_labels\n",
    "        out = np.array(out)\n",
    "        pred_labels = np.argmax(out, axis=1).tolist()\n",
    "    return accuracy_score(labels, pred_labels)"
   ]
  },
  {
   "cell_type": "code",
   "execution_count": 91,
   "id": "d057de12-f509-4a09-9a35-f295af826a77",
   "metadata": {
    "tags": []
   },
   "outputs": [],
   "source": [
    "def count_parameters(model):\n",
    "    return sum(p.numel() for p in model.parameters() if p.requires_grad)"
   ]
  },
  {
   "cell_type": "code",
   "execution_count": 92,
   "id": "1b5abf5c-ef16-4113-b715-d6dcac7be309",
   "metadata": {
    "tags": []
   },
   "outputs": [
    {
     "data": {
      "text/plain": [
       "3649859"
      ]
     },
     "execution_count": 92,
     "metadata": {},
     "output_type": "execute_result"
    }
   ],
   "source": [
    "count_parameters(model)"
   ]
  },
  {
   "cell_type": "code",
   "execution_count": null,
   "id": "7e10a209-b3de-4cea-9624-b55a54182459",
   "metadata": {
    "tags": []
   },
   "outputs": [],
   "source": [
    "for epoch in range(n_epochs):\n",
    "    train_epoch(model, train_loader, criterion, optimizer, cuda)\n",
    "    acc = run_test(model, test_loader, cuda)\n",
    "    scheduler.step()\n",
    "    print(f'accuracy: {acc}')"
   ]
  },
  {
   "cell_type": "code",
   "execution_count": null,
   "id": "70e1eb72-630e-42b0-997e-6b53c1e99429",
   "metadata": {},
   "outputs": [],
   "source": []
  },
  {
   "cell_type": "code",
   "execution_count": 94,
   "id": "08819c5f-83b9-4eaa-99b4-cf57dcb8c16c",
   "metadata": {},
   "outputs": [],
   "source": [
    "def evaluation(model, test_loader, device):\n",
    "    model.eval()\n",
    "    with torch.no_grad():\n",
    "        true_labels, pred_labels = [], []\n",
    "        for imgs, t_true_labels in test_loader:\n",
    "            pred_labels += np.argmax(model(imgs.to(cuda)).squeeze().cpu(), axis=1).tolist()\n",
    "            true_labels += t_true_labels.tolist()\n",
    "        acc = accuracy_score(true_labels, pred_labels)\n",
    "        bacc = balanced_accuracy_score(pred_labels, true_labels)\n",
    "        pr = precision_score(true_labels, pred_labels, average='weighted')\n",
    "        recall = recall_score(true_labels, pred_labels, average='weighted')\n",
    "        print(f'accuracy: {acc}')\n",
    "        print(f'balanced accuracy: {bacc}')\n",
    "        print(f'precision: {pr}')\n",
    "        print(f'recall: {recall}')\n",
    "\n",
    "        fpr, tpr, thresholds = roc_curve(true_labels, pred_labels, pos_label=1)\n",
    "        auc_score = auc(fpr, tpr)\n",
    "        print(f'auc: {auc_score}')\n",
    "        conf_matrix = confusion_matrix(true_labels, pred_labels)\n",
    "        heatmap = sns.heatmap(conf_matrix, annot=True, fmt='g')\n",
    "        heatmap.set(xlabel='Predicted label', ylabel='True label')\n",
    "        plt.show()"
   ]
  },
  {
   "cell_type": "code",
   "execution_count": 95,
   "id": "af61ca94-eb61-4472-a570-0114eec1b7a7",
   "metadata": {},
   "outputs": [
    {
     "name": "stderr",
     "output_type": "stream",
     "text": [
      "Exception ignored in: <function _MultiProcessingDataLoaderIter.__del__ at 0x0000020DD42574C0>\n",
      "Traceback (most recent call last):\n",
      "  File \"C:\\Users\\Wxei\\anaconda3\\envs\\fito\\lib\\site-packages\\torch\\utils\\data\\dataloader.py\", line 1358, in __del__\n",
      "    self._shutdown_workers()\n",
      "  File \"C:\\Users\\Wxei\\anaconda3\\envs\\fito\\lib\\site-packages\\torch\\utils\\data\\dataloader.py\", line 1316, in _shutdown_workers\n",
      "    if self._persistent_workers or self._workers_status[worker_id]:\n",
      "AttributeError: '_MultiProcessingDataLoaderIter' object has no attribute '_workers_status'\n"
     ]
    },
    {
     "name": "stdout",
     "output_type": "stream",
     "text": [
      "accuracy: 0.949874686716792\n",
      "balanced accuracy: 0.9481909672713552\n",
      "precision: 0.9500654665341486\n",
      "recall: 0.949874686716792\n",
      "auc: 0.3915003573588433\n"
     ]
    },
    {
     "data": {
      "image/png": "[encoded data removed]",
      "text/plain": [
       "<Figure size 432x288 with 2 Axes>"
      ]
     },
     "metadata": {},
     "output_type": "display_data"
    }
   ],
   "source": [
    "evaluation(model, test_loader, cuda)"
   ]
  },
  {
   "cell_type": "markdown",
   "id": "eed80c1a-9433-449e-bd34-dc6a61c601c0",
   "metadata": {},
   "source": [
    "# Save model"
   ]
  },
  {
   "cell_type": "code",
   "execution_count": 102,
   "id": "fdc349aa-0fe7-495a-a6fc-45bb245becae",
   "metadata": {},
   "outputs": [],
   "source": [
    "path = \"C:/Users/Wxei/fitoBack/savedModels/basic-noSoftmax-pretrained-95.5.pt\""
   ]
  },
  {
   "cell_type": "code",
   "execution_count": 103,
   "id": "bb993231-59d6-4b0c-9d6d-4c3fd10c1548",
   "metadata": {},
   "outputs": [],
   "source": [
    "torch.save(model, path)"
   ]
  },
  {
   "cell_type": "code",
   "execution_count": 79,
   "id": "ecc3bfba-2326-4c2b-9552-8bd231285a11",
   "metadata": {},
   "outputs": [],
   "source": [
    "def load_model(path):\n",
    "    model = torch.load(path)\n",
    "    model.eval()\n",
    "    return model"
   ]
  },
  {
   "cell_type": "code",
   "execution_count": null,
   "id": "6912a790-2ce1-4dd3-89b9-83572c7ab364",
   "metadata": {},
   "outputs": [],
   "source": []
  },
  {
   "cell_type": "code",
   "execution_count": null,
   "id": "26e2ca9d-5764-4cb0-90eb-89716a2a47fd",
   "metadata": {},
   "outputs": [],
   "source": []
  },
  {
   "cell_type": "code",
   "execution_count": null,
   "id": "c9904ed5-19b4-4122-a416-9e71b8aaceaa",
   "metadata": {},
   "outputs": [],
   "source": []
  },
  {
   "cell_type": "code",
   "execution_count": null,
   "id": "2f8b93d8-631a-4874-8ec6-03cb18be8afa",
   "metadata": {},
   "outputs": [],
   "source": []
  }
 ],
 "metadata": {
  "kernelspec": {
   "display_name": "fito",
   "language": "python",
   "name": "fito"
  },
  "language_info": {
   "codemirror_mode": {
    "name": "ipython",
    "version": 3
   },
   "file_extension": ".py",
   "mimetype": "text/x-python",
   "name": "python",
   "nbconvert_exporter": "python",
   "pygments_lexer": "ipython3",
   "version": "3.9.12"
  }
 },
 "nbformat": 4,
 "nbformat_minor": 5
}
