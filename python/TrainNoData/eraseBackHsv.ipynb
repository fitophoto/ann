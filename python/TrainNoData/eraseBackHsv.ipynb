{
 "cells": [
  {
   "cell_type": "code",
   "execution_count": 1,
   "id": "b0e16eb5-20e0-47fc-8f9b-5be4228cae1e",
   "metadata": {},
   "outputs": [],
   "source": [
    "#перевод RGB в HSV\n",
    "\n",
    "def rgb_to_hsv(px):\n",
    "    r = px[0] / 255\n",
    "    g = px[1] / 255\n",
    "    b = px[2] / 255\n",
    "    \n",
    "    mx = max(r, g, b)\n",
    "    mn = min(r, g, b)\n",
    "    \n",
    "    h, s, v = 0, 0, mx\n",
    "    if mx != mn and mx == r and g >= b:\n",
    "        h = 60 * (g - b) / (mx - mn)\n",
    "    elif mx != mn and mx == r and g < b:\n",
    "        h = 60 * (g - b) / (mx - mn) + 360\n",
    "    elif mx != mn and mx == g:\n",
    "        h = 60 * (b - r) / (mx - mn) + 120\n",
    "    elif mx != mn and mx == b:\n",
    "        h = 60 * (r - g) / (mx - mn) + 240\n",
    "    \n",
    "    if mx != 0:\n",
    "        s = 1 - mn / mx\n",
    "\n",
    "    return (h, s, v)\n",
    "\n",
    "#нормировка HSV в RGB для удобства пользования изображениями\n",
    "\n",
    "def converted_hsv(px):\n",
    "    h, s, v = rgb_to_hsv(px)\n",
    "\n",
    "    r = int(h / 360 * 255)\n",
    "    g = int(s * 255)\n",
    "    b = int(v * 255)\n",
    "    return (r, g, b)\n",
    "\n",
    "#перевод картинки в HSV\n",
    "\n",
    "def image_to_hsv(img):\n",
    "    w = img.width\n",
    "    h = img.height\n",
    "    img2 = img.copy()\n",
    "    for i in range(w):\n",
    "        for j in range(h):\n",
    "            img2.putpixel((i, j), converted_hsv(img.getpixel((i, j))))\n",
    "    return img2\n",
    "\n",
    "\n",
    "\n",
    "def green_based_rgb(px, coef, dist, light):\n",
    "    h, s, v = rgb_to_hsv(px)\n",
    "    if 120 - dist <= h and h <= 120 + dist and s > light:\n",
    "        return (px[0], px[1], px[2])\n",
    "    return (int(px[0] // coef), int(px[1] // coef), int(px[2] // coef))\n",
    "\n",
    "def to_green_based_hsv(img, coef, dist, light):\n",
    "    w = img.width\n",
    "    h = img.height\n",
    "    img2 = img.copy()\n",
    "    for i in range(w):\n",
    "        for j in range(h):\n",
    "            img2.putpixel((i, j), green_based_rgb(img.getpixel((i, j)), coef, dist, light))\n",
    "    return img2"
   ]
  },
  {
   "cell_type": "code",
   "execution_count": 2,
   "id": "63145e95-b600-4cbb-b867-b8e5d1b4b4be",
   "metadata": {},
   "outputs": [
    {
     "ename": "NameError",
     "evalue": "name 'remove' is not defined",
     "output_type": "error",
     "traceback": [
      "\u001b[1;31m---------------------------------------------------------------------------\u001b[0m",
      "\u001b[1;31mNameError\u001b[0m                                 Traceback (most recent call last)",
      "Input \u001b[1;32mIn [2]\u001b[0m, in \u001b[0;36m<cell line: 1>\u001b[1;34m()\u001b[0m\n\u001b[1;32m----> 1\u001b[0m \u001b[43mremove\u001b[49m(to_green_based_hsv(img, \u001b[38;5;241m10\u001b[39m, \u001b[38;5;241m60\u001b[39m, \u001b[38;5;241m0.1\u001b[39m))\n",
      "\u001b[1;31mNameError\u001b[0m: name 'remove' is not defined"
     ]
    }
   ],
   "source": [
    "remove(to_green_based_hsv(img, 10, 60, 0.1))"
   ]
  },
  {
   "cell_type": "code",
   "execution_count": 4,
   "id": "b37b3af7-9656-49b4-821f-85d391188a12",
   "metadata": {},
   "outputs": [],
   "source": [
    "import os\n",
    "from PIL import Image\n",
    "dataFolder = \"Data400\"\n",
    "out = \"MonoHSV\"\n",
    "for cls in os.listdir(dataFolder):\n",
    "    for img in os.listdir(dataFolder+\"/\"+cls):\n",
    "        erasedBack = to_green_based_hsv(Image.open(dataFolder+\"/\"+cls+\"/\"+img), 10, 60, 0.1)\n",
    "        erasedBack.save(out+\"/\"+cls+\"/\"+img)"
   ]
  },
  {
   "cell_type": "code",
   "execution_count": null,
   "id": "cd178904-2b8a-440c-8ba4-50fd0e85757e",
   "metadata": {},
   "outputs": [],
   "source": []
  }
 ],
 "metadata": {
  "kernelspec": {
   "display_name": "fito",
   "language": "python",
   "name": "fito"
  },
  "language_info": {
   "codemirror_mode": {
    "name": "ipython",
    "version": 3
   },
   "file_extension": ".py",
   "mimetype": "text/x-python",
   "name": "python",
   "nbconvert_exporter": "python",
   "pygments_lexer": "ipython3",
   "version": "3.9.12"
  }
 },
 "nbformat": 4,
 "nbformat_minor": 5
}
