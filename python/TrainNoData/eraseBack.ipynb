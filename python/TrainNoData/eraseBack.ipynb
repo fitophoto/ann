{
 "cells": [
  {
   "cell_type": "code",
   "execution_count": 1,
   "id": "c4241afc-c088-40f6-9e85-b54db167df67",
   "metadata": {},
   "outputs": [],
   "source": [
    "#перевод RGB в HSV\n",
    "\n",
    "def rgb_to_hsv(px):\n",
    "    r = px[0] / 255\n",
    "    g = px[1] / 255\n",
    "    b = px[2] / 255\n",
    "    \n",
    "    mx = max(r, g, b)\n",
    "    mn = min(r, g, b)\n",
    "    \n",
    "    h, s, v = 0, 0, mx\n",
    "    if mx != mn and mx == r and g >= b:\n",
    "        h = 60 * (g - b) / (mx - mn)\n",
    "    elif mx != mn and mx == r and g < b:\n",
    "        h = 60 * (g - b) / (mx - mn) + 360\n",
    "    elif mx != mn and mx == g:\n",
    "        h = 60 * (b - r) / (mx - mn) + 120\n",
    "    elif mx != mn and mx == b:\n",
    "        h = 60 * (r - g) / (mx - mn) + 240\n",
    "    \n",
    "    if mx != 0:\n",
    "        s = 1 - mn / mx\n",
    "\n",
    "    return (h, s, v)\n",
    "\n",
    "#нормировка HSV в RGB для удобства пользования изображениями\n",
    "\n",
    "def converted_hsv(px):\n",
    "    h, s, v = rgb_to_hsv(px)\n",
    "\n",
    "    r = int(h / 360 * 255)\n",
    "    g = int(s * 255)\n",
    "    b = int(v * 255)\n",
    "    return (r, g, b)\n",
    "\n",
    "#перевод картинки в HSV\n",
    "\n",
    "def image_to_hsv(img):\n",
    "    w = img.width\n",
    "    h = img.height\n",
    "    img2 = img.copy()\n",
    "    for i in range(w):\n",
    "        for j in range(h):\n",
    "            img2.putpixel((i, j), converted_hsv(img.getpixel((i, j))))\n",
    "    return img2\n",
    "\n",
    "\n",
    "\n",
    "def green_based_rgb(px, coef, dist, light):\n",
    "    h, s, v = rgb_to_hsv(px)\n",
    "    if 120 - dist <= h and h <= 120 + dist and s > light:\n",
    "        return (px[0], px[1], px[2])\n",
    "    return (int(px[0] // coef), int(px[1] // coef), int(px[2] // coef))\n",
    "\n",
    "def to_green_based_hsv(img, coef, dist, light):\n",
    "    w = img.width\n",
    "    h = img.height\n",
    "    img2 = img.copy()\n",
    "    for i in range(w):\n",
    "        for j in range(h):\n",
    "            img2.putpixel((i, j), green_based_rgb(img.getpixel((i, j)), coef, dist, light))\n",
    "    return img2"
   ]
  },
  {
   "cell_type": "code",
   "execution_count": 35,
   "id": "e71cfa5e-6654-4904-9d2d-28bdb0b7605c",
   "metadata": {},
   "outputs": [],
   "source": [
    "from PIL import Image\n",
    "from rembg.bg import remove\n",
    "\n",
    "img = Image.open(\"sample/IMG_4703.jpg\")\n",
    "alt = remove(img)\n",
    "hsv_alt = remove(to_green_based_hsv(img, 10, 40, 0.1))"
   ]
  },
  {
   "cell_type": "code",
   "execution_count": null,
   "id": "87c4ff32-838b-45c9-a832-6ac01ddaa96a",
   "metadata": {},
   "outputs": [],
   "source": []
  },
  {
   "cell_type": "code",
   "execution_count": 40,
   "id": "d4955145-7426-4ec0-8092-bb3d9067fef9",
   "metadata": {},
   "outputs": [],
   "source": [
    "import os\n",
    "dataFolder = \"Data400\"\n",
    "out = \"MonoRemBg\"\n",
    "for cls in os.listdir(dataFolder):\n",
    "    for img in os.listdir(dataFolder+\"/\"+cls):\n",
    "        erasedBack = remove(Image.open(dataFolder+\"/\"+cls+\"/\"+img))\n",
    "        erasedBack.convert('RGB').save(out+\"/\"+cls+\"/\"+img)"
   ]
  },
  {
   "cell_type": "code",
   "execution_count": null,
   "id": "f713744b-9726-40cb-9bc0-bb79b78f12df",
   "metadata": {},
   "outputs": [],
   "source": []
  }
 ],
 "metadata": {
  "kernelspec": {
   "display_name": "fito",
   "language": "python",
   "name": "fito"
  },
  "language_info": {
   "codemirror_mode": {
    "name": "ipython",
    "version": 3
   },
   "file_extension": ".py",
   "mimetype": "text/x-python",
   "name": "python",
   "nbconvert_exporter": "python",
   "pygments_lexer": "ipython3",
   "version": "3.9.12"
  }
 },
 "nbformat": 4,
 "nbformat_minor": 5
}
