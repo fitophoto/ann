{
 "cells": [
  {
   "cell_type": "code",
   "execution_count": 1,
   "id": "103854e9-5135-4964-8f81-54a4a207f3dc",
   "metadata": {},
   "outputs": [],
   "source": [
    "import numpy as np\n",
    "import torch\n",
    "import torch.nn as nn\n",
    "import torchvision\n",
    "import tqdm\n",
    "import sys\n",
    "import os\n",
    "\n",
    "from sklearn.model_selection import train_test_split\n",
    "from sklearn.metrics import accuracy_score, balanced_accuracy_score, confusion_matrix, precision_score, recall_score, auc, roc_curve\n",
    "from tqdm.notebook import tqdm_notebook\n",
    "\n",
    "import torchvision.models as models\n",
    "import seaborn as sns\n",
    "import matplotlib.pyplot as plt"
   ]
  },
  {
   "cell_type": "code",
   "execution_count": 2,
   "id": "92e6573c-21ce-4c51-94c4-61b393a7ff82",
   "metadata": {},
   "outputs": [],
   "source": [
    "sns.set_theme()\n",
    "sns.set(font_scale=1.3)\n",
    "sns.set_style(\"darkgrid\", {\"axes.facecolor\": \".9\"})"
   ]
  },
  {
   "cell_type": "code",
   "execution_count": 3,
   "id": "8e55ea53-fbca-44f2-8906-194a45563df2",
   "metadata": {},
   "outputs": [],
   "source": [
    "transform = torchvision.transforms.Compose([\n",
    "    torchvision.transforms.ToTensor(),\n",
    "])\n",
    "\n",
    "dataset = torchvision.datasets.ImageFolder(root=\"C:/Users/Wxei/fitoBack/White224Bin/\", transform=transform)\n",
    "train_indices, val_indices = train_test_split(list(range(len(dataset.targets))), test_size=0.2, stratify=dataset.targets)\n",
    "\n",
    "trainDataset = torch.utils.data.Subset(dataset, train_indices)\n",
    "testDataset = torch.utils.data.Subset(dataset, val_indices)"
   ]
  },
  {
   "cell_type": "code",
   "execution_count": 4,
   "id": "96903c88-9343-4709-b221-4dc219a0d05c",
   "metadata": {},
   "outputs": [
    {
     "data": {
      "text/plain": [
       "Counter({0: 127, 1: 120})"
      ]
     },
     "execution_count": 4,
     "metadata": {},
     "output_type": "execute_result"
    }
   ],
   "source": [
    "from collections import Counter\n",
    "\n",
    "count = Counter(dataset.targets)\n",
    "count"
   ]
  },
  {
   "cell_type": "code",
   "execution_count": 5,
   "id": "fcf40f7d-91ec-4d7f-9177-d5c149ca850c",
   "metadata": {},
   "outputs": [],
   "source": [
    "BATCH_SIZE = 512\n",
    "\n",
    "train_loader = torch.utils.data.DataLoader(trainDataset, batch_size=BATCH_SIZE, shuffle=True,  num_workers=6)\n",
    "test_loader = torch.utils.data.DataLoader(testDataset, batch_size=BATCH_SIZE, shuffle=False,  num_workers=6)\n",
    "\n",
    "cuda = torch.device('cuda')"
   ]
  },
  {
   "cell_type": "code",
   "execution_count": 6,
   "id": "f7c9f512-996c-4ba9-8407-41658706bc3b",
   "metadata": {},
   "outputs": [
    {
     "data": {
      "text/plain": [
       "tensor([1.9449, 2.0583])"
      ]
     },
     "execution_count": 6,
     "metadata": {},
     "output_type": "execute_result"
    }
   ],
   "source": [
    "healthy_count = count[0]\n",
    "rust_count = count[1]\n",
    "sum_count = healthy_count + rust_count\n",
    "\n",
    "class_weights = torch.tensor([sum_count / healthy_count, sum_count / rust_count], dtype=torch.float)\n",
    "class_weights"
   ]
  },
  {
   "cell_type": "code",
   "execution_count": 10,
   "id": "cc7940f3-912a-4368-bbf8-e42b87a2f785",
   "metadata": {},
   "outputs": [],
   "source": [
    "alexnet = models.alexnet(pretrained=False)\n",
    "alexnet.classifier[6] = nn.Linear(in_features=4096, out_features=1, bias=True)\n",
    "alexnet.to(cuda)\n",
    "model = nn.Sequential(\n",
    "    alexnet,\n",
    "    nn.Sigmoid()\n",
    ").to(cuda)"
   ]
  },
  {
   "cell_type": "code",
   "execution_count": null,
   "id": "7543f797-045f-4eee-945a-107146c21624",
   "metadata": {},
   "outputs": [],
   "source": []
  },
  {
   "cell_type": "code",
   "execution_count": null,
   "id": "8c3611b8-245f-4379-8152-31707d2d0264",
   "metadata": {},
   "outputs": [],
   "source": []
  },
  {
   "cell_type": "code",
   "execution_count": null,
   "id": "19595fd4-8b97-4f6f-9572-860d4bbe71fd",
   "metadata": {},
   "outputs": [],
   "source": []
  },
  {
   "cell_type": "code",
   "execution_count": null,
   "id": "3a270d35-782e-4191-9388-6968f69144c9",
   "metadata": {},
   "outputs": [],
   "source": []
  },
  {
   "cell_type": "code",
   "execution_count": 8,
   "id": "5df14af4-9e88-4c3e-a7cf-b280453de4f4",
   "metadata": {},
   "outputs": [],
   "source": [
    "def convert_relu_to_leaky(model):\n",
    "    for child_name, child in model.named_children():\n",
    "        if isinstance(child, nn.ReLU):\n",
    "            setattr(model, child_name, nn.LeakyReLU())\n",
    "        else:\n",
    "            convert_relu_to_leaky(child)"
   ]
  },
  {
   "cell_type": "code",
   "execution_count": 9,
   "id": "c3a8627c-a14b-41cd-8b90-86e6b2a94523",
   "metadata": {},
   "outputs": [
    {
     "data": {
      "text/plain": [
       "Sequential(\n",
       "  (0): AlexNet(\n",
       "    (features): Sequential(\n",
       "      (0): Conv2d(3, 64, kernel_size=(11, 11), stride=(4, 4), padding=(2, 2))\n",
       "      (1): LeakyReLU(negative_slope=0.01)\n",
       "      (2): MaxPool2d(kernel_size=3, stride=2, padding=0, dilation=1, ceil_mode=False)\n",
       "      (3): Conv2d(64, 192, kernel_size=(5, 5), stride=(1, 1), padding=(2, 2))\n",
       "      (4): LeakyReLU(negative_slope=0.01)\n",
       "      (5): MaxPool2d(kernel_size=3, stride=2, padding=0, dilation=1, ceil_mode=False)\n",
       "      (6): Conv2d(192, 384, kernel_size=(3, 3), stride=(1, 1), padding=(1, 1))\n",
       "      (7): LeakyReLU(negative_slope=0.01)\n",
       "      (8): Conv2d(384, 256, kernel_size=(3, 3), stride=(1, 1), padding=(1, 1))\n",
       "      (9): LeakyReLU(negative_slope=0.01)\n",
       "      (10): Conv2d(256, 256, kernel_size=(3, 3), stride=(1, 1), padding=(1, 1))\n",
       "      (11): LeakyReLU(negative_slope=0.01)\n",
       "      (12): MaxPool2d(kernel_size=3, stride=2, padding=0, dilation=1, ceil_mode=False)\n",
       "    )\n",
       "    (avgpool): AdaptiveAvgPool2d(output_size=(6, 6))\n",
       "    (classifier): Sequential(\n",
       "      (0): Dropout(p=0.5, inplace=False)\n",
       "      (1): Linear(in_features=9216, out_features=4096, bias=True)\n",
       "      (2): LeakyReLU(negative_slope=0.01)\n",
       "      (3): Dropout(p=0.5, inplace=False)\n",
       "      (4): Linear(in_features=4096, out_features=4096, bias=True)\n",
       "      (5): LeakyReLU(negative_slope=0.01)\n",
       "      (6): Linear(in_features=4096, out_features=2, bias=True)\n",
       "    )\n",
       "  )\n",
       ")"
      ]
     },
     "execution_count": 9,
     "metadata": {},
     "output_type": "execute_result"
    }
   ],
   "source": [
    "convert_relu_to_leaky(model)\n",
    "model"
   ]
  },
  {
   "cell_type": "code",
   "execution_count": 11,
   "id": "5aeec44e-2041-46b0-b387-5eac5c4b606c",
   "metadata": {},
   "outputs": [],
   "source": [
    "criterion = torch.nn.BCELoss()\n",
    "optimizer = torch.optim.SGD(model.parameters(), lr=0.001)\n",
    "scheduler = torch.optim.lr_scheduler.ExponentialLR(optimizer, gamma=0.98)\n",
    "\n",
    "n_epochs = 20"
   ]
  },
  {
   "cell_type": "code",
   "execution_count": 16,
   "id": "611215c8-509f-4f54-8892-cebd20f7f5e4",
   "metadata": {},
   "outputs": [],
   "source": [
    "def train_epoch(model, train_loader, criterion, optimizer, device=\"cuda:0\"):\n",
    "    model.train()\n",
    "    train_losses = []\n",
    "    for imgs, true_labels in train_loader:\n",
    "        true_labels = true_labels.to(device).float().to(device)\n",
    "        \n",
    "        optimizer.zero_grad()\n",
    "        out = model(imgs.to(device)).squeeze()\n",
    "        loss = criterion(out, true_labels)\n",
    "        print(loss.grad)\n",
    "        loss.backward()\n",
    "        print(loss.grad)\n",
    "        optimizer.step()\n",
    "        scheduler.step()\n",
    "        \n",
    "        train_losses.append(loss.item())"
   ]
  },
  {
   "cell_type": "code",
   "execution_count": 17,
   "id": "9ba2f7e9-b78e-452e-91dd-554b849dacbc",
   "metadata": {},
   "outputs": [],
   "source": [
    "def run_test(model, test_loader, device):\n",
    "    model.eval()\n",
    "    with torch.no_grad():\n",
    "        true_labels, pred_labels = [], []\n",
    "        for imgs, t_true_labels in test_loader:\n",
    "            pred_labels += np.argmax(model(imgs.to(cuda)).squeeze().cpu(), axis=1).tolist()\n",
    "            true_labels += t_true_labels.tolist()\n",
    "    return accuracy_score(pred_labels, true_labels), balanced_accuracy_score(pred_labels, true_labels)"
   ]
  },
  {
   "cell_type": "code",
   "execution_count": 18,
   "id": "9168f2e9-1bce-4e6c-a059-5068035875af",
   "metadata": {},
   "outputs": [],
   "source": [
    "def run_test(model, test_loader, device):\n",
    "    model.eval()\n",
    "    for imgs, true_labels in test_loader:\n",
    "        out = model(imgs.to(device)).squeeze()\n",
    "        true_labels = true_labels.float().to(device)\n",
    "    pred_labels = (out.detach().cpu().numpy() > 0.5).astype(int)\n",
    "    return accuracy_score(true_labels.detach().cpu().numpy(), pred_labels)"
   ]
  },
  {
   "cell_type": "code",
   "execution_count": 13,
   "id": "1ef859d7-ab89-4601-aca1-3d8a5984fc75",
   "metadata": {},
   "outputs": [
    {
     "ename": "AttributeError",
     "evalue": "'Conv2d' object has no attribute 'classifier'",
     "output_type": "error",
     "traceback": [
      "\u001b[1;31m---------------------------------------------------------------------------\u001b[0m",
      "\u001b[1;31mAttributeError\u001b[0m                            Traceback (most recent call last)",
      "Input \u001b[1;32mIn [13]\u001b[0m, in \u001b[0;36m<cell line: 1>\u001b[1;34m()\u001b[0m\n\u001b[1;32m----> 1\u001b[0m \u001b[43mmodel\u001b[49m\u001b[43m[\u001b[49m\u001b[38;5;241;43m0\u001b[39;49m\u001b[43m]\u001b[49m\u001b[38;5;241;43m.\u001b[39;49m\u001b[43mclassifier\u001b[49m[\u001b[38;5;241m1\u001b[39m]\u001b[38;5;241m.\u001b[39mweight\n",
      "File \u001b[1;32m~\\anaconda3\\envs\\fito\\lib\\site-packages\\torch\\nn\\modules\\module.py:1185\u001b[0m, in \u001b[0;36mModule.__getattr__\u001b[1;34m(self, name)\u001b[0m\n\u001b[0;32m   1183\u001b[0m     \u001b[38;5;28;01mif\u001b[39;00m name \u001b[38;5;129;01min\u001b[39;00m modules:\n\u001b[0;32m   1184\u001b[0m         \u001b[38;5;28;01mreturn\u001b[39;00m modules[name]\n\u001b[1;32m-> 1185\u001b[0m \u001b[38;5;28;01mraise\u001b[39;00m \u001b[38;5;167;01mAttributeError\u001b[39;00m(\u001b[38;5;124m\"\u001b[39m\u001b[38;5;124m'\u001b[39m\u001b[38;5;132;01m{}\u001b[39;00m\u001b[38;5;124m'\u001b[39m\u001b[38;5;124m object has no attribute \u001b[39m\u001b[38;5;124m'\u001b[39m\u001b[38;5;132;01m{}\u001b[39;00m\u001b[38;5;124m'\u001b[39m\u001b[38;5;124m\"\u001b[39m\u001b[38;5;241m.\u001b[39mformat(\n\u001b[0;32m   1186\u001b[0m     \u001b[38;5;28mtype\u001b[39m(\u001b[38;5;28mself\u001b[39m)\u001b[38;5;241m.\u001b[39m\u001b[38;5;18m__name__\u001b[39m, name))\n",
      "\u001b[1;31mAttributeError\u001b[0m: 'Conv2d' object has no attribute 'classifier'"
     ]
    }
   ],
   "source": [
    "model[0].classifier[1].weight"
   ]
  },
  {
   "cell_type": "code",
   "execution_count": null,
   "id": "8f79d3ae-b724-4050-bc6b-b572df29c668",
   "metadata": {},
   "outputs": [],
   "source": []
  },
  {
   "cell_type": "code",
   "execution_count": null,
   "id": "9efe9449-8514-4e1a-a11e-e7d6e304da79",
   "metadata": {},
   "outputs": [
    {
     "name": "stderr",
     "output_type": "stream",
     "text": [
      "C:\\Users\\Wxei\\anaconda3\\envs\\fito\\lib\\site-packages\\torch\\_tensor.py:1104: UserWarning: The .grad attribute of a Tensor that is not a leaf Tensor is being accessed. Its .grad attribute won't be populated during autograd.backward(). If you indeed want the .grad field to be populated for a non-leaf Tensor, use .retain_grad() on the non-leaf Tensor. If you access the non-leaf Tensor by mistake, make sure you access the leaf Tensor instead. See github.com/pytorch/pytorch/pull/30531 for more informations. (Triggered internally at  C:\\cb\\pytorch_1000000000000\\work\\build\\aten\\src\\ATen/core/TensorBody.h:475.)\n",
      "  return self._grad\n"
     ]
    },
    {
     "name": "stdout",
     "output_type": "stream",
     "text": [
      "None\n",
      "None\n",
      "raw accuracy: 0.48\n"
     ]
    }
   ],
   "source": [
    "for epoch in range(n_epochs):\n",
    "    train_epoch(model, train_loader, criterion, optimizer, cuda)\n",
    "    acc = run_test(model, test_loader, cuda)\n",
    "    print(f'raw accuracy: {acc}')\n",
    "    #print(f'balanced accuracy: {bacc}')"
   ]
  },
  {
   "cell_type": "code",
   "execution_count": 14,
   "id": "68d3cf3a-c8ea-4132-9038-986321555adf",
   "metadata": {},
   "outputs": [],
   "source": [
    "def evaluation(model, test_loader, device):\n",
    "    model.eval()\n",
    "    with torch.no_grad():\n",
    "        true_labels, pred_labels = [], []\n",
    "        for imgs, t_true_labels in test_loader:\n",
    "            pred_labels += np.argmax(model(imgs.to(cuda)).squeeze().cpu(), axis=1).tolist()\n",
    "            true_labels += t_true_labels.tolist()\n",
    "        acc = accuracy_score(true_labels, pred_labels)\n",
    "        bacc = balanced_accuracy_score(pred_labels, true_labels)\n",
    "        pr = precision_score(true_labels, pred_labels, average='weighted')\n",
    "        recall = recall_score(true_labels, pred_labels, average='weighted')\n",
    "        print(f'accuracy: {acc}')\n",
    "        print(f'balanced accuracy: {bacc}')\n",
    "        print(f'precision: {pr}')\n",
    "        print(f'recall: {recall}')\n",
    "\n",
    "        fpr, tpr, thresholds = roc_curve(true_labels, pred_labels, pos_label=1)\n",
    "        auc_score = auc(fpr, tpr)\n",
    "        print(f'auc: {auc_score}')\n",
    "        conf_matrix = confusion_matrix(true_labels, pred_labels)\n",
    "        heatmap = sns.heatmap(conf_matrix, annot=True, fmt='g')\n",
    "        heatmap.set(xlabel='Predicted label', ylabel='True label')\n",
    "        plt.show()"
   ]
  },
  {
   "cell_type": "code",
   "execution_count": 15,
   "id": "2967bca2-ae31-44dc-b5c4-f92c687e723c",
   "metadata": {},
   "outputs": [
    {
     "name": "stdout",
     "output_type": "stream",
     "text": [
      "accuracy: 0.82\n",
      "balanced accuracy: 0.8316912972085386\n",
      "precision: 0.8346141215106733\n",
      "recall: 0.82\n",
      "auc: 0.8237179487179488\n"
     ]
    },
    {
     "data": {
      "image/png": "[encoded data removed]",
      "text/plain": [
       "<Figure size 432x288 with 2 Axes>"
      ]
     },
     "metadata": {
      "needs_background": "light"
     },
     "output_type": "display_data"
    }
   ],
   "source": [
    "evaluation(model, test_loader, cuda)"
   ]
  },
  {
   "cell_type": "code",
   "execution_count": null,
   "id": "a14c3c19-e189-4123-b2df-8dc13c420a19",
   "metadata": {},
   "outputs": [],
   "source": []
  }
 ],
 "metadata": {
  "kernelspec": {
   "display_name": "fito",
   "language": "python",
   "name": "fito"
  },
  "language_info": {
   "codemirror_mode": {
    "name": "ipython",
    "version": 3
   },
   "file_extension": ".py",
   "mimetype": "text/x-python",
   "name": "python",
   "nbconvert_exporter": "python",
   "pygments_lexer": "ipython3",
   "version": "3.9.12"
  }
 },
 "nbformat": 4,
 "nbformat_minor": 5
}
