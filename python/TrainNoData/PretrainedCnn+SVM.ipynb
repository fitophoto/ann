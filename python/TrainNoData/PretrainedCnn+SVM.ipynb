{
 "cells": [
  {
   "cell_type": "code",
   "execution_count": 1,
   "id": "0377022f-9f25-41f7-bde6-c67bbbcf3a85",
   "metadata": {},
   "outputs": [],
   "source": [
    "import numpy as np\n",
    "import torch\n",
    "import torch.nn as nn\n",
    "import torchvision\n",
    "import tqdm\n",
    "import sys\n",
    "import os\n",
    "\n",
    "from sklearn.metrics import accuracy_score, balanced_accuracy_score, confusion_matrix, precision_score, recall_score, auc, roc_curve\n",
    "from tqdm.notebook import tqdm_notebook\n",
    "\n",
    "import seaborn as sns\n",
    "import matplotlib.pyplot as plt"
   ]
  },
  {
   "cell_type": "code",
   "execution_count": 2,
   "id": "1e1117c5-aa1c-4d2a-ac96-d1422cd65132",
   "metadata": {},
   "outputs": [],
   "source": [
    "dataset = torchvision.datasets.ImageFolder(root=\"C:/Users/Wxei/fitoBack/Data400/\")\n",
    "\n",
    "split_ratio = 0.8\n",
    "\n",
    "train_size = int(split_ratio * len(dataset))\n",
    "test_size = len(dataset) - train_size\n",
    "train_set, test_set = torch.utils.data.random_split(dataset, [train_size, test_size])"
   ]
  },
  {
   "cell_type": "code",
   "execution_count": 3,
   "id": "b8741873-3d34-43c2-b5e4-e8df051211f9",
   "metadata": {},
   "outputs": [],
   "source": [
    "train_set.dataset.transform = torchvision.transforms.Compose([\n",
    "    torchvision.transforms.ToTensor(),\n",
    "    torchvision.transforms.AutoAugment(torchvision.transforms.AutoAugmentPolicy.CIFAR10),\n",
    "    torchvision.transforms.RandomHorizontalFlip(p=0.5),\n",
    "    torchvision.transforms.RandomPosterize(bits=2),\n",
    "    torchvision.transforms.RandomPerspective(distortion_scale=0.05, p=1.0),\n",
    "    torchvision.transforms.Normalize([0.485, 0.456, 0.406], [0.229, 0.224, 0.225])\n",
    "])\n",
    "\n",
    "test_set.dataset.transform = torchvision.transforms.Compose([\n",
    "    torchvision.transforms.ToTensor(),\n",
    "    torchvision.transforms.Normalize([0.485, 0.456, 0.406], [0.229, 0.224, 0.225])\n",
    "])"
   ]
  },
  {
   "cell_type": "code",
   "execution_count": 4,
   "id": "3f8397d2-52b3-45ba-bd7e-479c187f9f16",
   "metadata": {},
   "outputs": [],
   "source": [
    "BATCH_SIZE = 128\n",
    "\n",
    "train_loader = torch.utils.data.DataLoader(train_set, batch_size=BATCH_SIZE, shuffle=True,  num_workers=6)\n",
    "test_loader = torch.utils.data.DataLoader(test_set, batch_size=BATCH_SIZE, shuffle=True,  num_workers=6)\n",
    "\n",
    "def load_model(path):\n",
    "    model = torch.load(path)\n",
    "    model.eval()\n",
    "    return model\n",
    "\n",
    "cnn_model = load_model(\"C:/Users/Wxei/fitoBack/savedModels/basic-noSoftmax-pretrained-95.5.pt\").cpu()"
   ]
  },
  {
   "cell_type": "code",
   "execution_count": 5,
   "id": "b7e57085-4ee8-46ef-a893-34409015b896",
   "metadata": {},
   "outputs": [],
   "source": [
    "cnn_model.classifier = nn.Flatten()"
   ]
  },
  {
   "cell_type": "code",
   "execution_count": 6,
   "id": "7d83912d-f069-4865-aed1-64a3092d4920",
   "metadata": {},
   "outputs": [
    {
     "data": {
      "text/plain": [
       "AlexNet(\n",
       "  (features): Sequential(\n",
       "    (0): Conv2d(3, 64, kernel_size=(11, 11), stride=(4, 4), padding=(2, 2))\n",
       "    (1): ReLU(inplace=True)\n",
       "    (2): MaxPool2d(kernel_size=3, stride=2, padding=0, dilation=1, ceil_mode=False)\n",
       "    (3): Conv2d(64, 192, kernel_size=(5, 5), stride=(1, 1), padding=(2, 2))\n",
       "    (4): ReLU(inplace=True)\n",
       "    (5): MaxPool2d(kernel_size=3, stride=2, padding=0, dilation=1, ceil_mode=False)\n",
       "    (6): Conv2d(192, 384, kernel_size=(3, 3), stride=(1, 1), padding=(1, 1))\n",
       "    (7): ReLU(inplace=True)\n",
       "    (8): Conv2d(384, 256, kernel_size=(3, 3), stride=(1, 1), padding=(1, 1))\n",
       "    (9): ReLU(inplace=True)\n",
       "    (10): Conv2d(256, 256, kernel_size=(3, 3), stride=(1, 1), padding=(1, 1))\n",
       "    (11): ReLU(inplace=True)\n",
       "    (12): MaxPool2d(kernel_size=3, stride=2, padding=0, dilation=1, ceil_mode=False)\n",
       "  )\n",
       "  (avgpool): AdaptiveAvgPool2d(output_size=(6, 6))\n",
       "  (classifier): Flatten(start_dim=1, end_dim=-1)\n",
       ")"
      ]
     },
     "execution_count": 6,
     "metadata": {},
     "output_type": "execute_result"
    }
   ],
   "source": [
    "cnn_model"
   ]
  },
  {
   "cell_type": "code",
   "execution_count": 7,
   "id": "89bfeddd-d7a7-4f93-9d1d-c391d03fed97",
   "metadata": {},
   "outputs": [],
   "source": [
    "train_X, train_Y = None, None\n",
    "for imgs, true_labels in train_loader:\n",
    "    if train_X is None and train_Y is None:\n",
    "        train_X, train_Y = cnn_model(imgs).detach().numpy(), true_labels.numpy()\n",
    "    else:\n",
    "        train_X, train_Y = np.vstack((train_X, cnn_model(imgs).detach().numpy())), np.hstack((train_Y, true_labels))"
   ]
  },
  {
   "cell_type": "code",
   "execution_count": 8,
   "id": "09df4dc2-d0cf-4e19-92d0-ebb03abd5000",
   "metadata": {},
   "outputs": [
    {
     "data": {
      "text/plain": [
       "<function _pickle.dump(obj, file, protocol=None, *, fix_imports=True, buffer_callback=None)>"
      ]
     },
     "execution_count": 8,
     "metadata": {},
     "output_type": "execute_result"
    }
   ],
   "source": [
    "import pickle\n",
    "pickle.dump"
   ]
  },
  {
   "cell_type": "code",
   "execution_count": 26,
   "id": "f43a4a6b-dafb-485f-8716-bc04d471a06b",
   "metadata": {},
   "outputs": [],
   "source": [
    "from sklearn.svm import SVC,NuSVC, LinearSVC"
   ]
  },
  {
   "cell_type": "code",
   "execution_count": 34,
   "id": "e4aa9635-0d70-4524-9712-8de24ac212ef",
   "metadata": {},
   "outputs": [
    {
     "name": "stderr",
     "output_type": "stream",
     "text": [
      "C:\\Users\\Wxei\\anaconda3\\envs\\fito\\lib\\site-packages\\sklearn\\svm\\_base.py:1225: ConvergenceWarning: Liblinear failed to converge, increase the number of iterations.\n",
      "  warnings.warn(\n"
     ]
    },
    {
     "data": {
      "text/html": [
       "<style>#sk-container-id-10 {color: black;background-color: white;}#sk-container-id-10 pre{padding: 0;}#sk-container-id-10 div.sk-toggleable {background-color: white;}#sk-container-id-10 label.sk-toggleable__label {cursor: pointer;display: block;width: 100%;margin-bottom: 0;padding: 0.3em;box-sizing: border-box;text-align: center;}#sk-container-id-10 label.sk-toggleable__label-arrow:before {content: \"▸\";float: left;margin-right: 0.25em;color: #696969;}#sk-container-id-10 label.sk-toggleable__label-arrow:hover:before {color: black;}#sk-container-id-10 div.sk-estimator:hover label.sk-toggleable__label-arrow:before {color: black;}#sk-container-id-10 div.sk-toggleable__content {max-height: 0;max-width: 0;overflow: hidden;text-align: left;background-color: #f0f8ff;}#sk-container-id-10 div.sk-toggleable__content pre {margin: 0.2em;color: black;border-radius: 0.25em;background-color: #f0f8ff;}#sk-container-id-10 input.sk-toggleable__control:checked~div.sk-toggleable__content {max-height: 200px;max-width: 100%;overflow: auto;}#sk-container-id-10 input.sk-toggleable__control:checked~label.sk-toggleable__label-arrow:before {content: \"▾\";}#sk-container-id-10 div.sk-estimator input.sk-toggleable__control:checked~label.sk-toggleable__label {background-color: #d4ebff;}#sk-container-id-10 div.sk-label input.sk-toggleable__control:checked~label.sk-toggleable__label {background-color: #d4ebff;}#sk-container-id-10 input.sk-hidden--visually {border: 0;clip: rect(1px 1px 1px 1px);clip: rect(1px, 1px, 1px, 1px);height: 1px;margin: -1px;overflow: hidden;padding: 0;position: absolute;width: 1px;}#sk-container-id-10 div.sk-estimator {font-family: monospace;background-color: #f0f8ff;border: 1px dotted black;border-radius: 0.25em;box-sizing: border-box;margin-bottom: 0.5em;}#sk-container-id-10 div.sk-estimator:hover {background-color: #d4ebff;}#sk-container-id-10 div.sk-parallel-item::after {content: \"\";width: 100%;border-bottom: 1px solid gray;flex-grow: 1;}#sk-container-id-10 div.sk-label:hover label.sk-toggleable__label {background-color: #d4ebff;}#sk-container-id-10 div.sk-serial::before {content: \"\";position: absolute;border-left: 1px solid gray;box-sizing: border-box;top: 0;bottom: 0;left: 50%;z-index: 0;}#sk-container-id-10 div.sk-serial {display: flex;flex-direction: column;align-items: center;background-color: white;padding-right: 0.2em;padding-left: 0.2em;position: relative;}#sk-container-id-10 div.sk-item {position: relative;z-index: 1;}#sk-container-id-10 div.sk-parallel {display: flex;align-items: stretch;justify-content: center;background-color: white;position: relative;}#sk-container-id-10 div.sk-item::before, #sk-container-id-10 div.sk-parallel-item::before {content: \"\";position: absolute;border-left: 1px solid gray;box-sizing: border-box;top: 0;bottom: 0;left: 50%;z-index: -1;}#sk-container-id-10 div.sk-parallel-item {display: flex;flex-direction: column;z-index: 1;position: relative;background-color: white;}#sk-container-id-10 div.sk-parallel-item:first-child::after {align-self: flex-end;width: 50%;}#sk-container-id-10 div.sk-parallel-item:last-child::after {align-self: flex-start;width: 50%;}#sk-container-id-10 div.sk-parallel-item:only-child::after {width: 0;}#sk-container-id-10 div.sk-dashed-wrapped {border: 1px dashed gray;margin: 0 0.4em 0.5em 0.4em;box-sizing: border-box;padding-bottom: 0.4em;background-color: white;}#sk-container-id-10 div.sk-label label {font-family: monospace;font-weight: bold;display: inline-block;line-height: 1.2em;}#sk-container-id-10 div.sk-label-container {text-align: center;}#sk-container-id-10 div.sk-container {/* jupyter's `normalize.less` sets `[hidden] { display: none; }` but bootstrap.min.css set `[hidden] { display: none !important; }` so we also need the `!important` here to be able to override the default hidden behavior on the sphinx rendered scikit-learn.org. See: https://github.com/scikit-learn/scikit-learn/issues/21755 */display: inline-block !important;position: relative;}#sk-container-id-10 div.sk-text-repr-fallback {display: none;}</style><div id=\"sk-container-id-10\" class=\"sk-top-container\"><div class=\"sk-text-repr-fallback\"><pre>LinearSVC()</pre><b>In a Jupyter environment, please rerun this cell to show the HTML representation or trust the notebook. <br />On GitHub, the HTML representation is unable to render, please try loading this page with nbviewer.org.</b></div><div class=\"sk-container\" hidden><div class=\"sk-item\"><div class=\"sk-estimator sk-toggleable\"><input class=\"sk-toggleable__control sk-hidden--visually\" id=\"sk-estimator-id-10\" type=\"checkbox\" checked><label for=\"sk-estimator-id-10\" class=\"sk-toggleable__label sk-toggleable__label-arrow\">LinearSVC</label><div class=\"sk-toggleable__content\"><pre>LinearSVC()</pre></div></div></div></div></div>"
      ],
      "text/plain": [
       "LinearSVC()"
      ]
     },
     "execution_count": 34,
     "metadata": {},
     "output_type": "execute_result"
    }
   ],
   "source": [
    "clf = LinearSVC()\n",
    "clf.fit(train_X, train_Y)"
   ]
  },
  {
   "cell_type": "code",
   "execution_count": 11,
   "id": "935844d0-4af6-45bd-a9c6-eb597c890f71",
   "metadata": {},
   "outputs": [],
   "source": [
    "test_X, test_Y = None, None\n",
    "for imgs, true_labels in test_loader:\n",
    "    if test_X is None and test_Y is None:\n",
    "        test_X, test_Y = cnn_model(imgs).detach().numpy(), true_labels.numpy()\n",
    "    else:\n",
    "        test_X, test_Y = np.vstack((test_X, cnn_model(imgs).detach().numpy())), np.hstack((test_Y, true_labels))"
   ]
  },
  {
   "cell_type": "code",
   "execution_count": 35,
   "id": "45d3319b-7801-41c7-ac7f-bf9898fcec46",
   "metadata": {},
   "outputs": [
    {
     "data": {
      "text/plain": [
       "0.9824561403508771"
      ]
     },
     "execution_count": 35,
     "metadata": {},
     "output_type": "execute_result"
    }
   ],
   "source": [
    "accuracy_score(clf.predict(test_X), test_Y)"
   ]
  },
  {
   "cell_type": "code",
   "execution_count": 12,
   "id": "64c7e2f9-adbf-4190-a416-162bdd1778ee",
   "metadata": {},
   "outputs": [
    {
     "data": {
      "text/plain": [
       "0.9849624060150376"
      ]
     },
     "execution_count": 12,
     "metadata": {},
     "output_type": "execute_result"
    }
   ],
   "source": [
    "accuracy_score(clf.predict(test_X), test_Y)"
   ]
  },
  {
   "cell_type": "code",
   "execution_count": 27,
   "id": "69abf9dc-4c56-41db-9538-8adb4d043073",
   "metadata": {},
   "outputs": [],
   "source": [
    "from sklearn.model_selection import GridSearchCV"
   ]
  },
  {
   "cell_type": "code",
   "execution_count": 28,
   "id": "3f82cf0f-6978-466f-81fb-7bb0737320a2",
   "metadata": {},
   "outputs": [
    {
     "name": "stdout",
     "output_type": "stream",
     "text": [
      "Fitting 5 folds for each of 48 candidates, totalling 240 fits\n",
      "[CV] END .........................C=0.1, gamma=1, kernel=rbf; total time=  10.4s\n",
      "[CV] END .........................C=0.1, gamma=1, kernel=rbf; total time=  10.4s\n",
      "[CV] END .........................C=0.1, gamma=1, kernel=rbf; total time=  10.4s\n",
      "[CV] END .........................C=0.1, gamma=1, kernel=rbf; total time=  10.5s\n",
      "[CV] END .........................C=0.1, gamma=1, kernel=rbf; total time=  10.4s\n",
      "[CV] END ........................C=0.1, gamma=1, kernel=poly; total time=   0.7s\n",
      "[CV] END ........................C=0.1, gamma=1, kernel=poly; total time=   0.7s\n",
      "[CV] END ........................C=0.1, gamma=1, kernel=poly; total time=   0.7s\n",
      "[CV] END ........................C=0.1, gamma=1, kernel=poly; total time=   0.7s\n",
      "[CV] END ........................C=0.1, gamma=1, kernel=poly; total time=   0.7s\n",
      "[CV] END .....................C=0.1, gamma=1, kernel=sigmoid; total time=   8.0s\n",
      "[CV] END .....................C=0.1, gamma=1, kernel=sigmoid; total time=   7.9s\n",
      "[CV] END .....................C=0.1, gamma=1, kernel=sigmoid; total time=   7.9s\n",
      "[CV] END .....................C=0.1, gamma=1, kernel=sigmoid; total time=   7.9s\n",
      "[CV] END .....................C=0.1, gamma=1, kernel=sigmoid; total time=   7.9s\n",
      "[CV] END .......................C=0.1, gamma=0.1, kernel=rbf; total time=  10.3s\n",
      "[CV] END .......................C=0.1, gamma=0.1, kernel=rbf; total time=  10.3s\n",
      "[CV] END .......................C=0.1, gamma=0.1, kernel=rbf; total time=  10.3s\n",
      "[CV] END .......................C=0.1, gamma=0.1, kernel=rbf; total time=  10.4s\n",
      "[CV] END .......................C=0.1, gamma=0.1, kernel=rbf; total time=  10.4s\n",
      "[CV] END ......................C=0.1, gamma=0.1, kernel=poly; total time=   0.8s\n",
      "[CV] END ......................C=0.1, gamma=0.1, kernel=poly; total time=   0.7s\n",
      "[CV] END ......................C=0.1, gamma=0.1, kernel=poly; total time=   0.9s\n",
      "[CV] END ......................C=0.1, gamma=0.1, kernel=poly; total time=   0.8s\n",
      "[CV] END ......................C=0.1, gamma=0.1, kernel=poly; total time=   1.0s\n",
      "[CV] END ...................C=0.1, gamma=0.1, kernel=sigmoid; total time=   8.2s\n",
      "[CV] END ...................C=0.1, gamma=0.1, kernel=sigmoid; total time=   8.1s\n",
      "[CV] END ...................C=0.1, gamma=0.1, kernel=sigmoid; total time=   8.2s\n",
      "[CV] END ...................C=0.1, gamma=0.1, kernel=sigmoid; total time=   8.5s\n",
      "[CV] END ...................C=0.1, gamma=0.1, kernel=sigmoid; total time=   8.1s\n",
      "[CV] END ......................C=0.1, gamma=0.01, kernel=rbf; total time=  10.3s\n",
      "[CV] END ......................C=0.1, gamma=0.01, kernel=rbf; total time=  10.3s\n",
      "[CV] END ......................C=0.1, gamma=0.01, kernel=rbf; total time=  10.3s\n",
      "[CV] END ......................C=0.1, gamma=0.01, kernel=rbf; total time=  10.5s\n",
      "[CV] END ......................C=0.1, gamma=0.01, kernel=rbf; total time=  10.5s\n",
      "[CV] END .....................C=0.1, gamma=0.01, kernel=poly; total time=   0.7s\n",
      "[CV] END .....................C=0.1, gamma=0.01, kernel=poly; total time=   0.7s\n",
      "[CV] END .....................C=0.1, gamma=0.01, kernel=poly; total time=   0.7s\n",
      "[CV] END .....................C=0.1, gamma=0.01, kernel=poly; total time=   0.7s\n",
      "[CV] END .....................C=0.1, gamma=0.01, kernel=poly; total time=   0.7s\n",
      "[CV] END ..................C=0.1, gamma=0.01, kernel=sigmoid; total time=   8.2s\n",
      "[CV] END ..................C=0.1, gamma=0.01, kernel=sigmoid; total time=   8.2s\n",
      "[CV] END ..................C=0.1, gamma=0.01, kernel=sigmoid; total time=   8.3s\n",
      "[CV] END ..................C=0.1, gamma=0.01, kernel=sigmoid; total time=   8.3s\n",
      "[CV] END ..................C=0.1, gamma=0.01, kernel=sigmoid; total time=   8.1s\n",
      "[CV] END .....................C=0.1, gamma=0.001, kernel=rbf; total time=  10.1s\n",
      "[CV] END .....................C=0.1, gamma=0.001, kernel=rbf; total time=  10.3s\n",
      "[CV] END .....................C=0.1, gamma=0.001, kernel=rbf; total time=  10.6s\n",
      "[CV] END .....................C=0.1, gamma=0.001, kernel=rbf; total time=   9.9s\n",
      "[CV] END .....................C=0.1, gamma=0.001, kernel=rbf; total time=  10.7s\n",
      "[CV] END ....................C=0.1, gamma=0.001, kernel=poly; total time=   0.8s\n",
      "[CV] END ....................C=0.1, gamma=0.001, kernel=poly; total time=   0.7s\n",
      "[CV] END ....................C=0.1, gamma=0.001, kernel=poly; total time=   0.7s\n",
      "[CV] END ....................C=0.1, gamma=0.001, kernel=poly; total time=   0.6s\n",
      "[CV] END ....................C=0.1, gamma=0.001, kernel=poly; total time=   0.7s\n",
      "[CV] END .................C=0.1, gamma=0.001, kernel=sigmoid; total time=   7.6s\n",
      "[CV] END .................C=0.1, gamma=0.001, kernel=sigmoid; total time=   7.8s\n",
      "[CV] END .................C=0.1, gamma=0.001, kernel=sigmoid; total time=   7.6s\n",
      "[CV] END .................C=0.1, gamma=0.001, kernel=sigmoid; total time=   8.2s\n",
      "[CV] END .................C=0.1, gamma=0.001, kernel=sigmoid; total time=   7.7s\n",
      "[CV] END ...........................C=1, gamma=1, kernel=rbf; total time=  10.3s\n",
      "[CV] END ...........................C=1, gamma=1, kernel=rbf; total time=  10.4s\n",
      "[CV] END ...........................C=1, gamma=1, kernel=rbf; total time=  11.6s\n",
      "[CV] END ...........................C=1, gamma=1, kernel=rbf; total time=  10.4s\n",
      "[CV] END ...........................C=1, gamma=1, kernel=rbf; total time=  10.7s\n",
      "[CV] END ..........................C=1, gamma=1, kernel=poly; total time=   0.8s\n",
      "[CV] END ..........................C=1, gamma=1, kernel=poly; total time=   0.8s\n",
      "[CV] END ..........................C=1, gamma=1, kernel=poly; total time=   0.7s\n",
      "[CV] END ..........................C=1, gamma=1, kernel=poly; total time=   0.8s\n",
      "[CV] END ..........................C=1, gamma=1, kernel=poly; total time=   0.8s\n",
      "[CV] END .......................C=1, gamma=1, kernel=sigmoid; total time=   8.0s\n",
      "[CV] END .......................C=1, gamma=1, kernel=sigmoid; total time=   7.9s\n",
      "[CV] END .......................C=1, gamma=1, kernel=sigmoid; total time=   8.1s\n",
      "[CV] END .......................C=1, gamma=1, kernel=sigmoid; total time=   8.2s\n",
      "[CV] END .......................C=1, gamma=1, kernel=sigmoid; total time=   8.3s\n",
      "[CV] END .........................C=1, gamma=0.1, kernel=rbf; total time=  10.7s\n",
      "[CV] END .........................C=1, gamma=0.1, kernel=rbf; total time=  10.7s\n",
      "[CV] END .........................C=1, gamma=0.1, kernel=rbf; total time=  10.4s\n",
      "[CV] END .........................C=1, gamma=0.1, kernel=rbf; total time=  10.4s\n",
      "[CV] END .........................C=1, gamma=0.1, kernel=rbf; total time=  10.2s\n",
      "[CV] END ........................C=1, gamma=0.1, kernel=poly; total time=   0.7s\n",
      "[CV] END ........................C=1, gamma=0.1, kernel=poly; total time=   0.7s\n",
      "[CV] END ........................C=1, gamma=0.1, kernel=poly; total time=   0.7s\n",
      "[CV] END ........................C=1, gamma=0.1, kernel=poly; total time=   0.6s\n",
      "[CV] END ........................C=1, gamma=0.1, kernel=poly; total time=   0.7s\n",
      "[CV] END .....................C=1, gamma=0.1, kernel=sigmoid; total time=   8.1s\n",
      "[CV] END .....................C=1, gamma=0.1, kernel=sigmoid; total time=   7.9s\n",
      "[CV] END .....................C=1, gamma=0.1, kernel=sigmoid; total time=   7.8s\n",
      "[CV] END .....................C=1, gamma=0.1, kernel=sigmoid; total time=   7.9s\n",
      "[CV] END .....................C=1, gamma=0.1, kernel=sigmoid; total time=   8.1s\n",
      "[CV] END ........................C=1, gamma=0.01, kernel=rbf; total time=  10.3s\n",
      "[CV] END ........................C=1, gamma=0.01, kernel=rbf; total time=  10.6s\n",
      "[CV] END ........................C=1, gamma=0.01, kernel=rbf; total time=  10.2s\n",
      "[CV] END ........................C=1, gamma=0.01, kernel=rbf; total time=  10.2s\n",
      "[CV] END ........................C=1, gamma=0.01, kernel=rbf; total time=  10.7s\n",
      "[CV] END .......................C=1, gamma=0.01, kernel=poly; total time=   0.7s\n",
      "[CV] END .......................C=1, gamma=0.01, kernel=poly; total time=   0.7s\n",
      "[CV] END .......................C=1, gamma=0.01, kernel=poly; total time=   0.7s\n",
      "[CV] END .......................C=1, gamma=0.01, kernel=poly; total time=   0.7s\n",
      "[CV] END .......................C=1, gamma=0.01, kernel=poly; total time=   0.8s\n",
      "[CV] END ....................C=1, gamma=0.01, kernel=sigmoid; total time=   8.7s\n",
      "[CV] END ....................C=1, gamma=0.01, kernel=sigmoid; total time=   8.5s\n",
      "[CV] END ....................C=1, gamma=0.01, kernel=sigmoid; total time=   8.3s\n",
      "[CV] END ....................C=1, gamma=0.01, kernel=sigmoid; total time=   8.5s\n",
      "[CV] END ....................C=1, gamma=0.01, kernel=sigmoid; total time=   8.5s\n",
      "[CV] END .......................C=1, gamma=0.001, kernel=rbf; total time=  10.3s\n",
      "[CV] END .......................C=1, gamma=0.001, kernel=rbf; total time=  10.5s\n",
      "[CV] END .......................C=1, gamma=0.001, kernel=rbf; total time=   9.7s\n",
      "[CV] END .......................C=1, gamma=0.001, kernel=rbf; total time=  10.2s\n",
      "[CV] END .......................C=1, gamma=0.001, kernel=rbf; total time=  10.3s\n",
      "[CV] END ......................C=1, gamma=0.001, kernel=poly; total time=   0.7s\n",
      "[CV] END ......................C=1, gamma=0.001, kernel=poly; total time=   0.7s\n",
      "[CV] END ......................C=1, gamma=0.001, kernel=poly; total time=   0.7s\n",
      "[CV] END ......................C=1, gamma=0.001, kernel=poly; total time=   0.6s\n",
      "[CV] END ......................C=1, gamma=0.001, kernel=poly; total time=   0.7s\n",
      "[CV] END ...................C=1, gamma=0.001, kernel=sigmoid; total time=   5.9s\n",
      "[CV] END ...................C=1, gamma=0.001, kernel=sigmoid; total time=   5.9s\n",
      "[CV] END ...................C=1, gamma=0.001, kernel=sigmoid; total time=   5.7s\n",
      "[CV] END ...................C=1, gamma=0.001, kernel=sigmoid; total time=   5.8s\n",
      "[CV] END ...................C=1, gamma=0.001, kernel=sigmoid; total time=   5.7s\n",
      "[CV] END ..........................C=10, gamma=1, kernel=rbf; total time=  10.5s\n",
      "[CV] END ..........................C=10, gamma=1, kernel=rbf; total time=  10.6s\n",
      "[CV] END ..........................C=10, gamma=1, kernel=rbf; total time=  10.7s\n",
      "[CV] END ..........................C=10, gamma=1, kernel=rbf; total time=  10.7s\n",
      "[CV] END ..........................C=10, gamma=1, kernel=rbf; total time=  10.5s\n",
      "[CV] END .........................C=10, gamma=1, kernel=poly; total time=   0.7s\n",
      "[CV] END .........................C=10, gamma=1, kernel=poly; total time=   0.7s\n",
      "[CV] END .........................C=10, gamma=1, kernel=poly; total time=   0.6s\n",
      "[CV] END .........................C=10, gamma=1, kernel=poly; total time=   0.7s\n",
      "[CV] END .........................C=10, gamma=1, kernel=poly; total time=   0.7s\n",
      "[CV] END ......................C=10, gamma=1, kernel=sigmoid; total time=   8.0s\n",
      "[CV] END ......................C=10, gamma=1, kernel=sigmoid; total time=   8.1s\n",
      "[CV] END ......................C=10, gamma=1, kernel=sigmoid; total time=   8.1s\n",
      "[CV] END ......................C=10, gamma=1, kernel=sigmoid; total time=   7.8s\n",
      "[CV] END ......................C=10, gamma=1, kernel=sigmoid; total time=   7.9s\n",
      "[CV] END ........................C=10, gamma=0.1, kernel=rbf; total time=  10.5s\n",
      "[CV] END ........................C=10, gamma=0.1, kernel=rbf; total time=  10.7s\n",
      "[CV] END ........................C=10, gamma=0.1, kernel=rbf; total time=  10.5s\n",
      "[CV] END ........................C=10, gamma=0.1, kernel=rbf; total time=  10.2s\n",
      "[CV] END ........................C=10, gamma=0.1, kernel=rbf; total time=  10.2s\n",
      "[CV] END .......................C=10, gamma=0.1, kernel=poly; total time=   0.7s\n",
      "[CV] END .......................C=10, gamma=0.1, kernel=poly; total time=   0.7s\n",
      "[CV] END .......................C=10, gamma=0.1, kernel=poly; total time=   0.6s\n",
      "[CV] END .......................C=10, gamma=0.1, kernel=poly; total time=   0.7s\n",
      "[CV] END .......................C=10, gamma=0.1, kernel=poly; total time=   0.7s\n",
      "[CV] END ....................C=10, gamma=0.1, kernel=sigmoid; total time=   7.6s\n",
      "[CV] END ....................C=10, gamma=0.1, kernel=sigmoid; total time=   7.8s\n",
      "[CV] END ....................C=10, gamma=0.1, kernel=sigmoid; total time=   7.9s\n",
      "[CV] END ....................C=10, gamma=0.1, kernel=sigmoid; total time=   7.7s\n",
      "[CV] END ....................C=10, gamma=0.1, kernel=sigmoid; total time=   7.6s\n",
      "[CV] END .......................C=10, gamma=0.01, kernel=rbf; total time=  10.0s\n",
      "[CV] END .......................C=10, gamma=0.01, kernel=rbf; total time=  10.1s\n",
      "[CV] END .......................C=10, gamma=0.01, kernel=rbf; total time=  10.1s\n",
      "[CV] END .......................C=10, gamma=0.01, kernel=rbf; total time=  10.1s\n",
      "[CV] END .......................C=10, gamma=0.01, kernel=rbf; total time=  10.0s\n",
      "[CV] END ......................C=10, gamma=0.01, kernel=poly; total time=   0.7s\n",
      "[CV] END ......................C=10, gamma=0.01, kernel=poly; total time=   0.7s\n",
      "[CV] END ......................C=10, gamma=0.01, kernel=poly; total time=   0.6s\n",
      "[CV] END ......................C=10, gamma=0.01, kernel=poly; total time=   0.6s\n",
      "[CV] END ......................C=10, gamma=0.01, kernel=poly; total time=   0.7s\n",
      "[CV] END ...................C=10, gamma=0.01, kernel=sigmoid; total time=   7.8s\n",
      "[CV] END ...................C=10, gamma=0.01, kernel=sigmoid; total time=   7.7s\n",
      "[CV] END ...................C=10, gamma=0.01, kernel=sigmoid; total time=   7.3s\n",
      "[CV] END ...................C=10, gamma=0.01, kernel=sigmoid; total time=   7.1s\n",
      "[CV] END ...................C=10, gamma=0.01, kernel=sigmoid; total time=   7.7s\n",
      "[CV] END ......................C=10, gamma=0.001, kernel=rbf; total time=   9.7s\n",
      "[CV] END ......................C=10, gamma=0.001, kernel=rbf; total time=   9.7s\n",
      "[CV] END ......................C=10, gamma=0.001, kernel=rbf; total time=   9.7s\n",
      "[CV] END ......................C=10, gamma=0.001, kernel=rbf; total time=   9.7s\n",
      "[CV] END ......................C=10, gamma=0.001, kernel=rbf; total time=   9.7s\n",
      "[CV] END .....................C=10, gamma=0.001, kernel=poly; total time=   0.7s\n",
      "[CV] END .....................C=10, gamma=0.001, kernel=poly; total time=   0.7s\n",
      "[CV] END .....................C=10, gamma=0.001, kernel=poly; total time=   0.7s\n",
      "[CV] END .....................C=10, gamma=0.001, kernel=poly; total time=   0.6s\n",
      "[CV] END .....................C=10, gamma=0.001, kernel=poly; total time=   0.7s\n",
      "[CV] END ..................C=10, gamma=0.001, kernel=sigmoid; total time=   4.6s\n",
      "[CV] END ..................C=10, gamma=0.001, kernel=sigmoid; total time=   4.8s\n",
      "[CV] END ..................C=10, gamma=0.001, kernel=sigmoid; total time=   4.7s\n",
      "[CV] END ..................C=10, gamma=0.001, kernel=sigmoid; total time=   4.5s\n",
      "[CV] END ..................C=10, gamma=0.001, kernel=sigmoid; total time=   4.6s\n",
      "[CV] END .........................C=100, gamma=1, kernel=rbf; total time=  10.2s\n",
      "[CV] END .........................C=100, gamma=1, kernel=rbf; total time=  10.2s\n",
      "[CV] END .........................C=100, gamma=1, kernel=rbf; total time=  10.2s\n",
      "[CV] END .........................C=100, gamma=1, kernel=rbf; total time=  10.5s\n",
      "[CV] END .........................C=100, gamma=1, kernel=rbf; total time=  10.6s\n",
      "[CV] END ........................C=100, gamma=1, kernel=poly; total time=   0.7s\n",
      "[CV] END ........................C=100, gamma=1, kernel=poly; total time=   0.7s\n",
      "[CV] END ........................C=100, gamma=1, kernel=poly; total time=   0.7s\n",
      "[CV] END ........................C=100, gamma=1, kernel=poly; total time=   0.7s\n",
      "[CV] END ........................C=100, gamma=1, kernel=poly; total time=   0.7s\n",
      "[CV] END .....................C=100, gamma=1, kernel=sigmoid; total time=   8.0s\n",
      "[CV] END .....................C=100, gamma=1, kernel=sigmoid; total time=   7.8s\n",
      "[CV] END .....................C=100, gamma=1, kernel=sigmoid; total time=   8.2s\n",
      "[CV] END .....................C=100, gamma=1, kernel=sigmoid; total time=   8.2s\n",
      "[CV] END .....................C=100, gamma=1, kernel=sigmoid; total time=   8.0s\n",
      "[CV] END .......................C=100, gamma=0.1, kernel=rbf; total time=  10.4s\n",
      "[CV] END .......................C=100, gamma=0.1, kernel=rbf; total time=  10.3s\n",
      "[CV] END .......................C=100, gamma=0.1, kernel=rbf; total time=  10.5s\n",
      "[CV] END .......................C=100, gamma=0.1, kernel=rbf; total time=  10.5s\n",
      "[CV] END .......................C=100, gamma=0.1, kernel=rbf; total time=  10.6s\n",
      "[CV] END ......................C=100, gamma=0.1, kernel=poly; total time=   0.7s\n",
      "[CV] END ......................C=100, gamma=0.1, kernel=poly; total time=   0.7s\n",
      "[CV] END ......................C=100, gamma=0.1, kernel=poly; total time=   0.6s\n",
      "[CV] END ......................C=100, gamma=0.1, kernel=poly; total time=   0.6s\n",
      "[CV] END ......................C=100, gamma=0.1, kernel=poly; total time=   0.7s\n",
      "[CV] END ...................C=100, gamma=0.1, kernel=sigmoid; total time=   7.3s\n",
      "[CV] END ...................C=100, gamma=0.1, kernel=sigmoid; total time=   8.1s\n",
      "[CV] END ...................C=100, gamma=0.1, kernel=sigmoid; total time=   7.6s\n",
      "[CV] END ...................C=100, gamma=0.1, kernel=sigmoid; total time=   7.8s\n",
      "[CV] END ...................C=100, gamma=0.1, kernel=sigmoid; total time=   7.5s\n",
      "[CV] END ......................C=100, gamma=0.01, kernel=rbf; total time=  10.4s\n",
      "[CV] END ......................C=100, gamma=0.01, kernel=rbf; total time=  10.6s\n",
      "[CV] END ......................C=100, gamma=0.01, kernel=rbf; total time=  10.2s\n",
      "[CV] END ......................C=100, gamma=0.01, kernel=rbf; total time=  10.2s\n",
      "[CV] END ......................C=100, gamma=0.01, kernel=rbf; total time=  10.1s\n",
      "[CV] END .....................C=100, gamma=0.01, kernel=poly; total time=   0.7s\n",
      "[CV] END .....................C=100, gamma=0.01, kernel=poly; total time=   0.7s\n",
      "[CV] END .....................C=100, gamma=0.01, kernel=poly; total time=   0.6s\n",
      "[CV] END .....................C=100, gamma=0.01, kernel=poly; total time=   0.6s\n",
      "[CV] END .....................C=100, gamma=0.01, kernel=poly; total time=   0.7s\n",
      "[CV] END ..................C=100, gamma=0.01, kernel=sigmoid; total time=   7.0s\n",
      "[CV] END ..................C=100, gamma=0.01, kernel=sigmoid; total time=   7.8s\n",
      "[CV] END ..................C=100, gamma=0.01, kernel=sigmoid; total time=   6.6s\n",
      "[CV] END ..................C=100, gamma=0.01, kernel=sigmoid; total time=   6.5s\n",
      "[CV] END ..................C=100, gamma=0.01, kernel=sigmoid; total time=   7.0s\n",
      "[CV] END .....................C=100, gamma=0.001, kernel=rbf; total time=   9.7s\n",
      "[CV] END .....................C=100, gamma=0.001, kernel=rbf; total time=  10.1s\n",
      "[CV] END .....................C=100, gamma=0.001, kernel=rbf; total time=   9.8s\n",
      "[CV] END .....................C=100, gamma=0.001, kernel=rbf; total time=   9.9s\n",
      "[CV] END .....................C=100, gamma=0.001, kernel=rbf; total time=   9.8s\n",
      "[CV] END ....................C=100, gamma=0.001, kernel=poly; total time=   0.7s\n",
      "[CV] END ....................C=100, gamma=0.001, kernel=poly; total time=   0.7s\n",
      "[CV] END ....................C=100, gamma=0.001, kernel=poly; total time=   0.6s\n",
      "[CV] END ....................C=100, gamma=0.001, kernel=poly; total time=   0.6s\n",
      "[CV] END ....................C=100, gamma=0.001, kernel=poly; total time=   0.7s\n",
      "[CV] END .................C=100, gamma=0.001, kernel=sigmoid; total time=   4.7s\n",
      "[CV] END .................C=100, gamma=0.001, kernel=sigmoid; total time=   4.8s\n",
      "[CV] END .................C=100, gamma=0.001, kernel=sigmoid; total time=   4.7s\n",
      "[CV] END .................C=100, gamma=0.001, kernel=sigmoid; total time=   4.5s\n",
      "[CV] END .................C=100, gamma=0.001, kernel=sigmoid; total time=   4.6s\n",
      "SVC(C=0.1, gamma=0.001, kernel='poly')\n"
     ]
    }
   ],
   "source": [
    "param_grid = {'C': [0.1,1, 10, 100], 'gamma': [1,0.1,0.01,0.001],'kernel': ['rbf', 'poly', 'sigmoid']}\n",
    "\n",
    "grid = GridSearchCV(SVC(),param_grid,refit=True,verbose=2)\n",
    "grid.fit(train_X, train_Y)\n",
    "print(grid.best_estimator_)"
   ]
  },
  {
   "cell_type": "code",
   "execution_count": 46,
   "id": "111853b9-def7-4439-90fb-d05ed6748815",
   "metadata": {},
   "outputs": [],
   "source": []
  },
  {
   "cell_type": "code",
   "execution_count": 46,
   "id": "884d5a65-3876-4e83-b71a-bae276cccb6c",
   "metadata": {},
   "outputs": [],
   "source": [
    "import pickle\n",
    "file = open(\"savedModels/SVMclf.pckl\", 'wb')\n",
    "pickle.dump(clf, file)\n",
    "file = open(\"savedModels/SVMCNN.pckl\", 'wb')\n",
    "pickle.dump(cnn_model, file)"
   ]
  },
  {
   "cell_type": "code",
   "execution_count": 25,
   "id": "40d8e1b2-e63b-4f00-89ef-088795abe6c1",
   "metadata": {},
   "outputs": [
    {
     "data": {
      "text/plain": [
       "array([1, 2, 2, ..., 0, 2, 2], dtype=int64)"
      ]
     },
     "execution_count": 25,
     "metadata": {},
     "output_type": "execute_result"
    }
   ],
   "source": []
  },
  {
   "cell_type": "code",
   "execution_count": 27,
   "id": "ca185a06-cd07-4190-8bee-3d6d90a644b3",
   "metadata": {},
   "outputs": [],
   "source": []
  },
  {
   "cell_type": "code",
   "execution_count": 28,
   "id": "5f54f537-9714-4ee9-92f2-8ee5010c572e",
   "metadata": {},
   "outputs": [
    {
     "data": {
      "text/plain": [
       "tensor([ 1,  2,  2,  ...,  0,  2, 23])"
      ]
     },
     "execution_count": 28,
     "metadata": {},
     "output_type": "execute_result"
    }
   ],
   "source": []
  },
  {
   "cell_type": "code",
   "execution_count": null,
   "id": "a322b989-6b78-451d-8581-539c3c7d25c2",
   "metadata": {},
   "outputs": [],
   "source": []
  }
 ],
 "metadata": {
  "kernelspec": {
   "display_name": "fito",
   "language": "python",
   "name": "fito"
  },
  "language_info": {
   "codemirror_mode": {
    "name": "ipython",
    "version": 3
   },
   "file_extension": ".py",
   "mimetype": "text/x-python",
   "name": "python",
   "nbconvert_exporter": "python",
   "pygments_lexer": "ipython3",
   "version": "3.9.12"
  }
 },
 "nbformat": 4,
 "nbformat_minor": 5
}
